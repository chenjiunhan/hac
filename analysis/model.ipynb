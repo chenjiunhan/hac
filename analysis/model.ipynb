{
 "cells": [
  {
   "cell_type": "code",
   "execution_count": 1,
   "id": "1eabd9c7-77cf-4b8f-8cd6-2c3c42c8438a",
   "metadata": {},
   "outputs": [],
   "source": [
    "import scipy.stats as stats \n",
    "import numpy as np\n",
    "import pandas as pd\n",
    "import torch\n",
    "import random\n",
    "import os\n",
    "import sys\n",
    "import matplotlib.pyplot as plt\n",
    "import torch\n",
    "import torch.nn as nn\n",
    "from tqdm import tqdm\n",
    "\n",
    "os.chdir('..')\n",
    "from hac.utils.key_points import W_LIST_POSE, W2I_POSE, \\\n",
    "                                 W_LIST_LEFT_HAND, W2I_LEFT_HAND, \\\n",
    "                                 W_LIST_RIGHT_HAND, W2I_RIGHT_HAND, \\\n",
    "                                 X_COLS, Y_COLS, \\\n",
    "                                 ALL_XY_COLS, HAND_XY_COLS, \\\n",
    "                                 LEFT_HAND_X_COLS, LEFT_HAND_Y_COLS, \\\n",
    "                                 RIGHT_HAND_X_COLS, RIGHT_HAND_Y_COLS\n",
    "from hac.utils.normalizer import normalize_data, normalize_hand_data"
   ]
  },
  {
   "cell_type": "code",
   "execution_count": 2,
   "id": "f1823f7c-661e-499a-80b7-b1244d25892a",
   "metadata": {},
   "outputs": [
    {
     "data": {
      "text/plain": [
       "'C:\\\\Users\\\\JAQQ\\\\YOLO\\\\hac'"
      ]
     },
     "execution_count": 2,
     "metadata": {},
     "output_type": "execute_result"
    }
   ],
   "source": [
    "os.getcwd()"
   ]
  },
  {
   "cell_type": "code",
   "execution_count": 3,
   "id": "5a22a85a-4208-4022-9544-45efe2a04046",
   "metadata": {},
   "outputs": [],
   "source": [
    "torch.random.manual_seed(5566)\n",
    "np.random.seed(5566)\n",
    "random.seed(5566)"
   ]
  },
  {
   "cell_type": "code",
   "execution_count": 4,
   "id": "ff2722d6-4659-491e-822e-08e6949e42b4",
   "metadata": {},
   "outputs": [
    {
     "name": "stdout",
     "output_type": "stream",
     "text": [
      "data\\actions\\walk\\data.csv\n",
      "data\\actions\\jump\\data.csv\n",
      "data\\actions\\hands_on_hips\\data.csv\n",
      "data\\actions\\point_left\\data.csv\n",
      "data\\actions\\point_right\\data.csv\n",
      "data\\actions\\arms_lift\\data.csv\n",
      "data\\actions\\punch\\data.csv\n",
      "data\\actions\\trample\\data.csv\n",
      "data\\actions\\lateral_raise\\data.csv\n",
      "data\\actions\\stand\\data.csv\n"
     ]
    }
   ],
   "source": [
    "data_path = \"data\\\\actions\"\n",
    "model_target = \"actions\"\n",
    "\n",
    "if model_target == \"actions\":\n",
    "    model_name = \"roblox_lift_game\"\n",
    "    actions = [\"walk\", \"jump\", \"hands_on_hips\", \"point_left\", \"point_right\", \"arms_lift\", \"punch\", \"trample\", \"lateral_raise\", \"stand\"]\n",
    "    target_columns = ALL_XY_COLS\n",
    "    target_columns_x = target_columns.copy()\n",
    "    target_columns += [\"image_name\", \"label\"]\n",
    "elif model_target == \"gestures\":\n",
    "    model_name = \"mouse\"\n",
    "    actions = [\"r_five\", \"r_zero\", \"l_five\", \"l_zero\", \"two_index_fingers_up\", \"two_index_fingers_down\", \"33\", \"55\", \"sit\", \"gesture_none\"]\n",
    "    target_columns = [key + \"_x\" for key in W_LIST_RIGHT_HAND] + [key + \"_y\" for key in W_LIST_RIGHT_HAND]\n",
    "    target_columns += [key + \"_x\" for key in W_LIST_LEFT_HAND] + [key + \"_y\" for key in W_LIST_LEFT_HAND]\n",
    "    target_columns_x = target_columns.copy()\n",
    "    target_columns += [\"image_name\", \"label\"]\n",
    "else:\n",
    "    RunTimeError(\"???\")\n",
    "\n",
    "dfs = []\n",
    "for idx, action in enumerate(actions):\n",
    "    file_path = os.path.join(data_path, action, \"data.csv\")\n",
    "    print(file_path)\n",
    "    df = pd.read_csv(file_path)\n",
    "\n",
    "    df.label = idx\n",
    "    dfs.append(df)"
   ]
  },
  {
   "cell_type": "code",
   "execution_count": 5,
   "id": "fa32dd35-ea38-4e6a-b3e5-4d77cbfedfeb",
   "metadata": {},
   "outputs": [
    {
     "data": {
      "text/html": [
       "<div>\n",
       "<style scoped>\n",
       "    .dataframe tbody tr th:only-of-type {\n",
       "        vertical-align: middle;\n",
       "    }\n",
       "\n",
       "    .dataframe tbody tr th {\n",
       "        vertical-align: top;\n",
       "    }\n",
       "\n",
       "    .dataframe thead th {\n",
       "        text-align: right;\n",
       "    }\n",
       "</style>\n",
       "<table border=\"1\" class=\"dataframe\">\n",
       "  <thead>\n",
       "    <tr style=\"text-align: right;\">\n",
       "      <th></th>\n",
       "      <th>n_x</th>\n",
       "      <th>n_y</th>\n",
       "      <th>n_v</th>\n",
       "      <th>lei_x</th>\n",
       "      <th>lei_y</th>\n",
       "      <th>lei_v</th>\n",
       "      <th>le_x</th>\n",
       "      <th>le_y</th>\n",
       "      <th>le_v</th>\n",
       "      <th>leo_x</th>\n",
       "      <th>...</th>\n",
       "      <th>r_p_p_y</th>\n",
       "      <th>r_p_p_v</th>\n",
       "      <th>r_p_d_x</th>\n",
       "      <th>r_p_d_y</th>\n",
       "      <th>r_p_d_v</th>\n",
       "      <th>r_p_t_x</th>\n",
       "      <th>r_p_t_y</th>\n",
       "      <th>r_p_t_v</th>\n",
       "      <th>image_name</th>\n",
       "      <th>label</th>\n",
       "    </tr>\n",
       "  </thead>\n",
       "  <tbody>\n",
       "    <tr>\n",
       "      <th>0</th>\n",
       "      <td>0.509826</td>\n",
       "      <td>0.790976</td>\n",
       "      <td>0.996212</td>\n",
       "      <td>0.524391</td>\n",
       "      <td>0.809645</td>\n",
       "      <td>0.993615</td>\n",
       "      <td>0.531443</td>\n",
       "      <td>0.805283</td>\n",
       "      <td>0.990742</td>\n",
       "      <td>0.538297</td>\n",
       "      <td>...</td>\n",
       "      <td>0.000000</td>\n",
       "      <td>0.0</td>\n",
       "      <td>0.000000</td>\n",
       "      <td>0.000000</td>\n",
       "      <td>0.0</td>\n",
       "      <td>0.000000</td>\n",
       "      <td>0.000000</td>\n",
       "      <td>0.0</td>\n",
       "      <td>1626033708734.png</td>\n",
       "      <td>0</td>\n",
       "    </tr>\n",
       "    <tr>\n",
       "      <th>1</th>\n",
       "      <td>0.505817</td>\n",
       "      <td>0.766078</td>\n",
       "      <td>0.996582</td>\n",
       "      <td>0.519767</td>\n",
       "      <td>0.785251</td>\n",
       "      <td>0.994219</td>\n",
       "      <td>0.526347</td>\n",
       "      <td>0.781523</td>\n",
       "      <td>0.991658</td>\n",
       "      <td>0.532932</td>\n",
       "      <td>...</td>\n",
       "      <td>0.000000</td>\n",
       "      <td>0.0</td>\n",
       "      <td>0.000000</td>\n",
       "      <td>0.000000</td>\n",
       "      <td>0.0</td>\n",
       "      <td>0.000000</td>\n",
       "      <td>0.000000</td>\n",
       "      <td>0.0</td>\n",
       "      <td>1626033709103.png</td>\n",
       "      <td>0</td>\n",
       "    </tr>\n",
       "    <tr>\n",
       "      <th>2</th>\n",
       "      <td>0.502098</td>\n",
       "      <td>0.750100</td>\n",
       "      <td>0.996911</td>\n",
       "      <td>0.515123</td>\n",
       "      <td>0.774690</td>\n",
       "      <td>0.994708</td>\n",
       "      <td>0.521026</td>\n",
       "      <td>0.772047</td>\n",
       "      <td>0.992472</td>\n",
       "      <td>0.526957</td>\n",
       "      <td>...</td>\n",
       "      <td>0.000000</td>\n",
       "      <td>0.0</td>\n",
       "      <td>0.000000</td>\n",
       "      <td>0.000000</td>\n",
       "      <td>0.0</td>\n",
       "      <td>0.000000</td>\n",
       "      <td>0.000000</td>\n",
       "      <td>0.0</td>\n",
       "      <td>1626033709464.png</td>\n",
       "      <td>0</td>\n",
       "    </tr>\n",
       "    <tr>\n",
       "      <th>3</th>\n",
       "      <td>0.497813</td>\n",
       "      <td>0.761369</td>\n",
       "      <td>0.997201</td>\n",
       "      <td>0.508259</td>\n",
       "      <td>0.778950</td>\n",
       "      <td>0.995040</td>\n",
       "      <td>0.513120</td>\n",
       "      <td>0.775779</td>\n",
       "      <td>0.993202</td>\n",
       "      <td>0.517845</td>\n",
       "      <td>...</td>\n",
       "      <td>0.000000</td>\n",
       "      <td>0.0</td>\n",
       "      <td>0.000000</td>\n",
       "      <td>0.000000</td>\n",
       "      <td>0.0</td>\n",
       "      <td>0.000000</td>\n",
       "      <td>0.000000</td>\n",
       "      <td>0.0</td>\n",
       "      <td>1626033709824.png</td>\n",
       "      <td>0</td>\n",
       "    </tr>\n",
       "    <tr>\n",
       "      <th>4</th>\n",
       "      <td>0.497416</td>\n",
       "      <td>0.731844</td>\n",
       "      <td>0.997474</td>\n",
       "      <td>0.509726</td>\n",
       "      <td>0.763261</td>\n",
       "      <td>0.995494</td>\n",
       "      <td>0.515646</td>\n",
       "      <td>0.761028</td>\n",
       "      <td>0.993869</td>\n",
       "      <td>0.521775</td>\n",
       "      <td>...</td>\n",
       "      <td>0.000000</td>\n",
       "      <td>0.0</td>\n",
       "      <td>0.000000</td>\n",
       "      <td>0.000000</td>\n",
       "      <td>0.0</td>\n",
       "      <td>0.000000</td>\n",
       "      <td>0.000000</td>\n",
       "      <td>0.0</td>\n",
       "      <td>1626033710154.png</td>\n",
       "      <td>0</td>\n",
       "    </tr>\n",
       "    <tr>\n",
       "      <th>...</th>\n",
       "      <td>...</td>\n",
       "      <td>...</td>\n",
       "      <td>...</td>\n",
       "      <td>...</td>\n",
       "      <td>...</td>\n",
       "      <td>...</td>\n",
       "      <td>...</td>\n",
       "      <td>...</td>\n",
       "      <td>...</td>\n",
       "      <td>...</td>\n",
       "      <td>...</td>\n",
       "      <td>...</td>\n",
       "      <td>...</td>\n",
       "      <td>...</td>\n",
       "      <td>...</td>\n",
       "      <td>...</td>\n",
       "      <td>...</td>\n",
       "      <td>...</td>\n",
       "      <td>...</td>\n",
       "      <td>...</td>\n",
       "      <td>...</td>\n",
       "    </tr>\n",
       "    <tr>\n",
       "      <th>4877</th>\n",
       "      <td>0.505055</td>\n",
       "      <td>0.853353</td>\n",
       "      <td>0.999973</td>\n",
       "      <td>0.514502</td>\n",
       "      <td>0.872395</td>\n",
       "      <td>0.999941</td>\n",
       "      <td>0.522862</td>\n",
       "      <td>0.870936</td>\n",
       "      <td>0.999922</td>\n",
       "      <td>0.529466</td>\n",
       "      <td>...</td>\n",
       "      <td>0.021926</td>\n",
       "      <td>0.0</td>\n",
       "      <td>0.367267</td>\n",
       "      <td>0.018427</td>\n",
       "      <td>0.0</td>\n",
       "      <td>0.371595</td>\n",
       "      <td>0.021468</td>\n",
       "      <td>0.0</td>\n",
       "      <td>1626157099102.png</td>\n",
       "      <td>9</td>\n",
       "    </tr>\n",
       "    <tr>\n",
       "      <th>4878</th>\n",
       "      <td>0.503939</td>\n",
       "      <td>0.853331</td>\n",
       "      <td>0.999974</td>\n",
       "      <td>0.513634</td>\n",
       "      <td>0.872416</td>\n",
       "      <td>0.999943</td>\n",
       "      <td>0.522038</td>\n",
       "      <td>0.870975</td>\n",
       "      <td>0.999925</td>\n",
       "      <td>0.528832</td>\n",
       "      <td>...</td>\n",
       "      <td>0.032285</td>\n",
       "      <td>0.0</td>\n",
       "      <td>0.364024</td>\n",
       "      <td>0.029971</td>\n",
       "      <td>0.0</td>\n",
       "      <td>0.369304</td>\n",
       "      <td>0.033603</td>\n",
       "      <td>0.0</td>\n",
       "      <td>1626157099178.png</td>\n",
       "      <td>9</td>\n",
       "    </tr>\n",
       "    <tr>\n",
       "      <th>4879</th>\n",
       "      <td>0.503540</td>\n",
       "      <td>0.853251</td>\n",
       "      <td>0.999975</td>\n",
       "      <td>0.513130</td>\n",
       "      <td>0.872420</td>\n",
       "      <td>0.999944</td>\n",
       "      <td>0.521526</td>\n",
       "      <td>0.870994</td>\n",
       "      <td>0.999928</td>\n",
       "      <td>0.528443</td>\n",
       "      <td>...</td>\n",
       "      <td>0.030910</td>\n",
       "      <td>0.0</td>\n",
       "      <td>0.367047</td>\n",
       "      <td>0.029005</td>\n",
       "      <td>0.0</td>\n",
       "      <td>0.371733</td>\n",
       "      <td>0.032888</td>\n",
       "      <td>0.0</td>\n",
       "      <td>1626157099270.png</td>\n",
       "      <td>9</td>\n",
       "    </tr>\n",
       "    <tr>\n",
       "      <th>4880</th>\n",
       "      <td>0.503719</td>\n",
       "      <td>0.853193</td>\n",
       "      <td>0.999976</td>\n",
       "      <td>0.513268</td>\n",
       "      <td>0.872423</td>\n",
       "      <td>0.999946</td>\n",
       "      <td>0.521672</td>\n",
       "      <td>0.870996</td>\n",
       "      <td>0.999930</td>\n",
       "      <td>0.528518</td>\n",
       "      <td>...</td>\n",
       "      <td>0.034011</td>\n",
       "      <td>0.0</td>\n",
       "      <td>0.360115</td>\n",
       "      <td>0.028510</td>\n",
       "      <td>0.0</td>\n",
       "      <td>0.364668</td>\n",
       "      <td>0.030136</td>\n",
       "      <td>0.0</td>\n",
       "      <td>1626157099364.png</td>\n",
       "      <td>9</td>\n",
       "    </tr>\n",
       "    <tr>\n",
       "      <th>4881</th>\n",
       "      <td>0.503623</td>\n",
       "      <td>0.852929</td>\n",
       "      <td>0.999977</td>\n",
       "      <td>0.513055</td>\n",
       "      <td>0.872389</td>\n",
       "      <td>0.999947</td>\n",
       "      <td>0.521432</td>\n",
       "      <td>0.870986</td>\n",
       "      <td>0.999933</td>\n",
       "      <td>0.528337</td>\n",
       "      <td>...</td>\n",
       "      <td>0.027657</td>\n",
       "      <td>0.0</td>\n",
       "      <td>0.362584</td>\n",
       "      <td>0.019783</td>\n",
       "      <td>0.0</td>\n",
       "      <td>0.367181</td>\n",
       "      <td>0.018739</td>\n",
       "      <td>0.0</td>\n",
       "      <td>1626157099443.png</td>\n",
       "      <td>9</td>\n",
       "    </tr>\n",
       "  </tbody>\n",
       "</table>\n",
       "<p>4882 rows × 228 columns</p>\n",
       "</div>"
      ],
      "text/plain": [
       "           n_x       n_y       n_v     lei_x     lei_y     lei_v      le_x  \\\n",
       "0     0.509826  0.790976  0.996212  0.524391  0.809645  0.993615  0.531443   \n",
       "1     0.505817  0.766078  0.996582  0.519767  0.785251  0.994219  0.526347   \n",
       "2     0.502098  0.750100  0.996911  0.515123  0.774690  0.994708  0.521026   \n",
       "3     0.497813  0.761369  0.997201  0.508259  0.778950  0.995040  0.513120   \n",
       "4     0.497416  0.731844  0.997474  0.509726  0.763261  0.995494  0.515646   \n",
       "...        ...       ...       ...       ...       ...       ...       ...   \n",
       "4877  0.505055  0.853353  0.999973  0.514502  0.872395  0.999941  0.522862   \n",
       "4878  0.503939  0.853331  0.999974  0.513634  0.872416  0.999943  0.522038   \n",
       "4879  0.503540  0.853251  0.999975  0.513130  0.872420  0.999944  0.521526   \n",
       "4880  0.503719  0.853193  0.999976  0.513268  0.872423  0.999946  0.521672   \n",
       "4881  0.503623  0.852929  0.999977  0.513055  0.872389  0.999947  0.521432   \n",
       "\n",
       "          le_y      le_v     leo_x  ...   r_p_p_y  r_p_p_v   r_p_d_x  \\\n",
       "0     0.805283  0.990742  0.538297  ...  0.000000      0.0  0.000000   \n",
       "1     0.781523  0.991658  0.532932  ...  0.000000      0.0  0.000000   \n",
       "2     0.772047  0.992472  0.526957  ...  0.000000      0.0  0.000000   \n",
       "3     0.775779  0.993202  0.517845  ...  0.000000      0.0  0.000000   \n",
       "4     0.761028  0.993869  0.521775  ...  0.000000      0.0  0.000000   \n",
       "...        ...       ...       ...  ...       ...      ...       ...   \n",
       "4877  0.870936  0.999922  0.529466  ...  0.021926      0.0  0.367267   \n",
       "4878  0.870975  0.999925  0.528832  ...  0.032285      0.0  0.364024   \n",
       "4879  0.870994  0.999928  0.528443  ...  0.030910      0.0  0.367047   \n",
       "4880  0.870996  0.999930  0.528518  ...  0.034011      0.0  0.360115   \n",
       "4881  0.870986  0.999933  0.528337  ...  0.027657      0.0  0.362584   \n",
       "\n",
       "       r_p_d_y  r_p_d_v   r_p_t_x   r_p_t_y  r_p_t_v         image_name  label  \n",
       "0     0.000000      0.0  0.000000  0.000000      0.0  1626033708734.png      0  \n",
       "1     0.000000      0.0  0.000000  0.000000      0.0  1626033709103.png      0  \n",
       "2     0.000000      0.0  0.000000  0.000000      0.0  1626033709464.png      0  \n",
       "3     0.000000      0.0  0.000000  0.000000      0.0  1626033709824.png      0  \n",
       "4     0.000000      0.0  0.000000  0.000000      0.0  1626033710154.png      0  \n",
       "...        ...      ...       ...       ...      ...                ...    ...  \n",
       "4877  0.018427      0.0  0.371595  0.021468      0.0  1626157099102.png      9  \n",
       "4878  0.029971      0.0  0.369304  0.033603      0.0  1626157099178.png      9  \n",
       "4879  0.029005      0.0  0.371733  0.032888      0.0  1626157099270.png      9  \n",
       "4880  0.028510      0.0  0.364668  0.030136      0.0  1626157099364.png      9  \n",
       "4881  0.019783      0.0  0.367181  0.018739      0.0  1626157099443.png      9  \n",
       "\n",
       "[4882 rows x 228 columns]"
      ]
     },
     "execution_count": 5,
     "metadata": {},
     "output_type": "execute_result"
    }
   ],
   "source": [
    "df_train = pd.concat(dfs)\n",
    "df_train = df_train.reset_index(drop=True)\n",
    "df_train"
   ]
  },
  {
   "cell_type": "code",
   "execution_count": 6,
   "id": "c6db84df-3bd1-464e-bed7-d84280c80b63",
   "metadata": {},
   "outputs": [
    {
     "data": {
      "text/html": [
       "<div>\n",
       "<style scoped>\n",
       "    .dataframe tbody tr th:only-of-type {\n",
       "        vertical-align: middle;\n",
       "    }\n",
       "\n",
       "    .dataframe tbody tr th {\n",
       "        vertical-align: top;\n",
       "    }\n",
       "\n",
       "    .dataframe thead th {\n",
       "        text-align: right;\n",
       "    }\n",
       "</style>\n",
       "<table border=\"1\" class=\"dataframe\">\n",
       "  <thead>\n",
       "    <tr style=\"text-align: right;\">\n",
       "      <th></th>\n",
       "      <th>n_x</th>\n",
       "      <th>n_y</th>\n",
       "      <th>n_v</th>\n",
       "      <th>lei_x</th>\n",
       "      <th>lei_y</th>\n",
       "      <th>lei_v</th>\n",
       "      <th>le_x</th>\n",
       "      <th>le_y</th>\n",
       "      <th>le_v</th>\n",
       "      <th>leo_x</th>\n",
       "      <th>...</th>\n",
       "      <th>r_p_p_y</th>\n",
       "      <th>r_p_p_v</th>\n",
       "      <th>r_p_d_x</th>\n",
       "      <th>r_p_d_y</th>\n",
       "      <th>r_p_d_v</th>\n",
       "      <th>r_p_t_x</th>\n",
       "      <th>r_p_t_y</th>\n",
       "      <th>r_p_t_v</th>\n",
       "      <th>image_name</th>\n",
       "      <th>label</th>\n",
       "    </tr>\n",
       "  </thead>\n",
       "  <tbody>\n",
       "    <tr>\n",
       "      <th>0</th>\n",
       "      <td>0.047294</td>\n",
       "      <td>0.654936</td>\n",
       "      <td>0.996212</td>\n",
       "      <td>0.061859</td>\n",
       "      <td>0.673605</td>\n",
       "      <td>0.993615</td>\n",
       "      <td>0.068911</td>\n",
       "      <td>0.669244</td>\n",
       "      <td>0.990742</td>\n",
       "      <td>0.075764</td>\n",
       "      <td>...</td>\n",
       "      <td>-0.136040</td>\n",
       "      <td>0.0</td>\n",
       "      <td>-0.462532</td>\n",
       "      <td>-0.136040</td>\n",
       "      <td>0.0</td>\n",
       "      <td>-0.462532</td>\n",
       "      <td>-0.136040</td>\n",
       "      <td>0.0</td>\n",
       "      <td>1626033708734.png</td>\n",
       "      <td>0</td>\n",
       "    </tr>\n",
       "    <tr>\n",
       "      <th>1</th>\n",
       "      <td>0.037764</td>\n",
       "      <td>0.615123</td>\n",
       "      <td>0.996582</td>\n",
       "      <td>0.051715</td>\n",
       "      <td>0.634297</td>\n",
       "      <td>0.994219</td>\n",
       "      <td>0.058295</td>\n",
       "      <td>0.630569</td>\n",
       "      <td>0.991658</td>\n",
       "      <td>0.064880</td>\n",
       "      <td>...</td>\n",
       "      <td>-0.150954</td>\n",
       "      <td>0.0</td>\n",
       "      <td>-0.468052</td>\n",
       "      <td>-0.150954</td>\n",
       "      <td>0.0</td>\n",
       "      <td>-0.468052</td>\n",
       "      <td>-0.150954</td>\n",
       "      <td>0.0</td>\n",
       "      <td>1626033709103.png</td>\n",
       "      <td>0</td>\n",
       "    </tr>\n",
       "    <tr>\n",
       "      <th>2</th>\n",
       "      <td>0.034514</td>\n",
       "      <td>0.583165</td>\n",
       "      <td>0.996911</td>\n",
       "      <td>0.047539</td>\n",
       "      <td>0.607755</td>\n",
       "      <td>0.994708</td>\n",
       "      <td>0.053442</td>\n",
       "      <td>0.605112</td>\n",
       "      <td>0.992472</td>\n",
       "      <td>0.059373</td>\n",
       "      <td>...</td>\n",
       "      <td>-0.166935</td>\n",
       "      <td>0.0</td>\n",
       "      <td>-0.467584</td>\n",
       "      <td>-0.166935</td>\n",
       "      <td>0.0</td>\n",
       "      <td>-0.467584</td>\n",
       "      <td>-0.166935</td>\n",
       "      <td>0.0</td>\n",
       "      <td>1626033709464.png</td>\n",
       "      <td>0</td>\n",
       "    </tr>\n",
       "    <tr>\n",
       "      <th>3</th>\n",
       "      <td>0.033068</td>\n",
       "      <td>0.567077</td>\n",
       "      <td>0.997201</td>\n",
       "      <td>0.043514</td>\n",
       "      <td>0.584658</td>\n",
       "      <td>0.995040</td>\n",
       "      <td>0.048375</td>\n",
       "      <td>0.581487</td>\n",
       "      <td>0.993202</td>\n",
       "      <td>0.053099</td>\n",
       "      <td>...</td>\n",
       "      <td>-0.194292</td>\n",
       "      <td>0.0</td>\n",
       "      <td>-0.464745</td>\n",
       "      <td>-0.194292</td>\n",
       "      <td>0.0</td>\n",
       "      <td>-0.464745</td>\n",
       "      <td>-0.194292</td>\n",
       "      <td>0.0</td>\n",
       "      <td>1626033709824.png</td>\n",
       "      <td>0</td>\n",
       "    </tr>\n",
       "    <tr>\n",
       "      <th>4</th>\n",
       "      <td>0.020204</td>\n",
       "      <td>0.547442</td>\n",
       "      <td>0.997474</td>\n",
       "      <td>0.032514</td>\n",
       "      <td>0.578859</td>\n",
       "      <td>0.995494</td>\n",
       "      <td>0.038434</td>\n",
       "      <td>0.576626</td>\n",
       "      <td>0.993869</td>\n",
       "      <td>0.044563</td>\n",
       "      <td>...</td>\n",
       "      <td>-0.184402</td>\n",
       "      <td>0.0</td>\n",
       "      <td>-0.477212</td>\n",
       "      <td>-0.184402</td>\n",
       "      <td>0.0</td>\n",
       "      <td>-0.477212</td>\n",
       "      <td>-0.184402</td>\n",
       "      <td>0.0</td>\n",
       "      <td>1626033710154.png</td>\n",
       "      <td>0</td>\n",
       "    </tr>\n",
       "    <tr>\n",
       "      <th>...</th>\n",
       "      <td>...</td>\n",
       "      <td>...</td>\n",
       "      <td>...</td>\n",
       "      <td>...</td>\n",
       "      <td>...</td>\n",
       "      <td>...</td>\n",
       "      <td>...</td>\n",
       "      <td>...</td>\n",
       "      <td>...</td>\n",
       "      <td>...</td>\n",
       "      <td>...</td>\n",
       "      <td>...</td>\n",
       "      <td>...</td>\n",
       "      <td>...</td>\n",
       "      <td>...</td>\n",
       "      <td>...</td>\n",
       "      <td>...</td>\n",
       "      <td>...</td>\n",
       "      <td>...</td>\n",
       "      <td>...</td>\n",
       "      <td>...</td>\n",
       "    </tr>\n",
       "    <tr>\n",
       "      <th>4877</th>\n",
       "      <td>-0.013094</td>\n",
       "      <td>0.663125</td>\n",
       "      <td>0.999973</td>\n",
       "      <td>-0.003647</td>\n",
       "      <td>0.682167</td>\n",
       "      <td>0.999941</td>\n",
       "      <td>0.004712</td>\n",
       "      <td>0.680707</td>\n",
       "      <td>0.999922</td>\n",
       "      <td>0.011316</td>\n",
       "      <td>...</td>\n",
       "      <td>-0.168302</td>\n",
       "      <td>0.0</td>\n",
       "      <td>-0.150882</td>\n",
       "      <td>-0.171802</td>\n",
       "      <td>0.0</td>\n",
       "      <td>-0.146554</td>\n",
       "      <td>-0.168761</td>\n",
       "      <td>0.0</td>\n",
       "      <td>1626157099102.png</td>\n",
       "      <td>9</td>\n",
       "    </tr>\n",
       "    <tr>\n",
       "      <th>4878</th>\n",
       "      <td>-0.013794</td>\n",
       "      <td>0.664405</td>\n",
       "      <td>0.999974</td>\n",
       "      <td>-0.004100</td>\n",
       "      <td>0.683489</td>\n",
       "      <td>0.999943</td>\n",
       "      <td>0.004304</td>\n",
       "      <td>0.682049</td>\n",
       "      <td>0.999925</td>\n",
       "      <td>0.011098</td>\n",
       "      <td>...</td>\n",
       "      <td>-0.156642</td>\n",
       "      <td>0.0</td>\n",
       "      <td>-0.153710</td>\n",
       "      <td>-0.158956</td>\n",
       "      <td>0.0</td>\n",
       "      <td>-0.148430</td>\n",
       "      <td>-0.155323</td>\n",
       "      <td>0.0</td>\n",
       "      <td>1626157099178.png</td>\n",
       "      <td>9</td>\n",
       "    </tr>\n",
       "    <tr>\n",
       "      <th>4879</th>\n",
       "      <td>-0.014049</td>\n",
       "      <td>0.665196</td>\n",
       "      <td>0.999975</td>\n",
       "      <td>-0.004458</td>\n",
       "      <td>0.684364</td>\n",
       "      <td>0.999944</td>\n",
       "      <td>0.003937</td>\n",
       "      <td>0.682938</td>\n",
       "      <td>0.999928</td>\n",
       "      <td>0.010854</td>\n",
       "      <td>...</td>\n",
       "      <td>-0.157146</td>\n",
       "      <td>0.0</td>\n",
       "      <td>-0.150541</td>\n",
       "      <td>-0.159051</td>\n",
       "      <td>0.0</td>\n",
       "      <td>-0.145856</td>\n",
       "      <td>-0.155168</td>\n",
       "      <td>0.0</td>\n",
       "      <td>1626157099270.png</td>\n",
       "      <td>9</td>\n",
       "    </tr>\n",
       "    <tr>\n",
       "      <th>4880</th>\n",
       "      <td>-0.013824</td>\n",
       "      <td>0.665675</td>\n",
       "      <td>0.999976</td>\n",
       "      <td>-0.004276</td>\n",
       "      <td>0.684905</td>\n",
       "      <td>0.999946</td>\n",
       "      <td>0.004129</td>\n",
       "      <td>0.683478</td>\n",
       "      <td>0.999930</td>\n",
       "      <td>0.010974</td>\n",
       "      <td>...</td>\n",
       "      <td>-0.153507</td>\n",
       "      <td>0.0</td>\n",
       "      <td>-0.157429</td>\n",
       "      <td>-0.159008</td>\n",
       "      <td>0.0</td>\n",
       "      <td>-0.152876</td>\n",
       "      <td>-0.157382</td>\n",
       "      <td>0.0</td>\n",
       "      <td>1626157099364.png</td>\n",
       "      <td>9</td>\n",
       "    </tr>\n",
       "    <tr>\n",
       "      <th>4881</th>\n",
       "      <td>-0.013706</td>\n",
       "      <td>0.665507</td>\n",
       "      <td>0.999977</td>\n",
       "      <td>-0.004274</td>\n",
       "      <td>0.684967</td>\n",
       "      <td>0.999947</td>\n",
       "      <td>0.004103</td>\n",
       "      <td>0.683564</td>\n",
       "      <td>0.999933</td>\n",
       "      <td>0.011009</td>\n",
       "      <td>...</td>\n",
       "      <td>-0.159765</td>\n",
       "      <td>0.0</td>\n",
       "      <td>-0.154744</td>\n",
       "      <td>-0.167639</td>\n",
       "      <td>0.0</td>\n",
       "      <td>-0.150147</td>\n",
       "      <td>-0.168683</td>\n",
       "      <td>0.0</td>\n",
       "      <td>1626157099443.png</td>\n",
       "      <td>9</td>\n",
       "    </tr>\n",
       "  </tbody>\n",
       "</table>\n",
       "<p>4882 rows × 228 columns</p>\n",
       "</div>"
      ],
      "text/plain": [
       "           n_x       n_y       n_v     lei_x     lei_y     lei_v      le_x  \\\n",
       "0     0.047294  0.654936  0.996212  0.061859  0.673605  0.993615  0.068911   \n",
       "1     0.037764  0.615123  0.996582  0.051715  0.634297  0.994219  0.058295   \n",
       "2     0.034514  0.583165  0.996911  0.047539  0.607755  0.994708  0.053442   \n",
       "3     0.033068  0.567077  0.997201  0.043514  0.584658  0.995040  0.048375   \n",
       "4     0.020204  0.547442  0.997474  0.032514  0.578859  0.995494  0.038434   \n",
       "...        ...       ...       ...       ...       ...       ...       ...   \n",
       "4877 -0.013094  0.663125  0.999973 -0.003647  0.682167  0.999941  0.004712   \n",
       "4878 -0.013794  0.664405  0.999974 -0.004100  0.683489  0.999943  0.004304   \n",
       "4879 -0.014049  0.665196  0.999975 -0.004458  0.684364  0.999944  0.003937   \n",
       "4880 -0.013824  0.665675  0.999976 -0.004276  0.684905  0.999946  0.004129   \n",
       "4881 -0.013706  0.665507  0.999977 -0.004274  0.684967  0.999947  0.004103   \n",
       "\n",
       "          le_y      le_v     leo_x  ...   r_p_p_y  r_p_p_v   r_p_d_x  \\\n",
       "0     0.669244  0.990742  0.075764  ... -0.136040      0.0 -0.462532   \n",
       "1     0.630569  0.991658  0.064880  ... -0.150954      0.0 -0.468052   \n",
       "2     0.605112  0.992472  0.059373  ... -0.166935      0.0 -0.467584   \n",
       "3     0.581487  0.993202  0.053099  ... -0.194292      0.0 -0.464745   \n",
       "4     0.576626  0.993869  0.044563  ... -0.184402      0.0 -0.477212   \n",
       "...        ...       ...       ...  ...       ...      ...       ...   \n",
       "4877  0.680707  0.999922  0.011316  ... -0.168302      0.0 -0.150882   \n",
       "4878  0.682049  0.999925  0.011098  ... -0.156642      0.0 -0.153710   \n",
       "4879  0.682938  0.999928  0.010854  ... -0.157146      0.0 -0.150541   \n",
       "4880  0.683478  0.999930  0.010974  ... -0.153507      0.0 -0.157429   \n",
       "4881  0.683564  0.999933  0.011009  ... -0.159765      0.0 -0.154744   \n",
       "\n",
       "       r_p_d_y  r_p_d_v   r_p_t_x   r_p_t_y  r_p_t_v         image_name  label  \n",
       "0    -0.136040      0.0 -0.462532 -0.136040      0.0  1626033708734.png      0  \n",
       "1    -0.150954      0.0 -0.468052 -0.150954      0.0  1626033709103.png      0  \n",
       "2    -0.166935      0.0 -0.467584 -0.166935      0.0  1626033709464.png      0  \n",
       "3    -0.194292      0.0 -0.464745 -0.194292      0.0  1626033709824.png      0  \n",
       "4    -0.184402      0.0 -0.477212 -0.184402      0.0  1626033710154.png      0  \n",
       "...        ...      ...       ...       ...      ...                ...    ...  \n",
       "4877 -0.171802      0.0 -0.146554 -0.168761      0.0  1626157099102.png      9  \n",
       "4878 -0.158956      0.0 -0.148430 -0.155323      0.0  1626157099178.png      9  \n",
       "4879 -0.159051      0.0 -0.145856 -0.155168      0.0  1626157099270.png      9  \n",
       "4880 -0.159008      0.0 -0.152876 -0.157382      0.0  1626157099364.png      9  \n",
       "4881 -0.167639      0.0 -0.150147 -0.168683      0.0  1626157099443.png      9  \n",
       "\n",
       "[4882 rows x 228 columns]"
      ]
     },
     "metadata": {},
     "output_type": "display_data"
    }
   ],
   "source": [
    "if model_target == \"actions\":\n",
    "    df_train = normalize_data(df_train)\n",
    "    display(df_train)\n",
    "if model_target == \"gestures\":\n",
    "    df_train = normalize_hand_data(df_train)\n",
    "    display(df_train)"
   ]
  },
  {
   "cell_type": "code",
   "execution_count": 7,
   "id": "2b443068-2f5f-4b9a-8884-fe4f66bf5f72",
   "metadata": {},
   "outputs": [],
   "source": [
    "df_train_x = df_train[target_columns_x]\n",
    "df_train_y = df_train[\"label\"]\n",
    "df_train_image = df_train[\"image_name\"]"
   ]
  },
  {
   "cell_type": "code",
   "execution_count": 8,
   "id": "b1abdea1-23af-4873-ac13-faf55ef50401",
   "metadata": {},
   "outputs": [],
   "source": [
    "class PoseGraph:\n",
    "    \n",
    "    num_vertices = 33\n",
    "    \n",
    "    def __init__(self, \n",
    "                 k_hop=3):\n",
    "        \n",
    "        self.k_hop = k_hop\n",
    "        \n",
    "        self.create_edge()\n",
    "        self.create_adjacent_matrix()\n",
    "        self.create_D()\n",
    "        self.create_k_hop_matrix()\n",
    "        \n",
    "    def create_edge(self):\n",
    "        self_edges = [(v, v) for v in range(self.num_vertices)]\n",
    "        neighbor_edges = [(0, 1), (0, 4), (1, 2), (2, 3),\n",
    "                         (3, 7), (4, 5), (5, 6), (6, 8), \n",
    "                         (9, 10), (11, 12), (11, 13), (11, 23), (12, 14),\n",
    "                         (12, 24), (13, 15), (14, 16), (15, 17), (15, 19),\n",
    "                         (15, 21), (16, 18), (16, 20), (16, 22), (17, 19),\n",
    "                         (18, 20), (23, 24), (23, 25), (24, 26), (25, 27),\n",
    "                         (26, 28), (27, 29), (27, 31), (28, 30), (28, 32), \n",
    "                         (29, 31), (30, 32), \n",
    "                        ]\n",
    "        \n",
    "        self.edges = self_edges + neighbor_edges\n",
    "        \n",
    "    def create_adjacent_matrix(self):\n",
    "        self.A = np.zeros((self.num_vertices, self.num_vertices))\n",
    "        for i, j in self.edges:\n",
    "            self.A[i, j] = 1\n",
    "            self.A[j, i] = 1\n",
    "        \n",
    "    def create_D(self):\n",
    "        sum_row = self.A.sum(axis=1)\n",
    "        self.D = np.diag(sum_row)\n",
    "        \n",
    "    def get_normalized_A(self):\n",
    "        return np.linalg.inv(self.D) @ self.A\n",
    "    \n",
    "    def create_k_hop_matrix(self):\n",
    "        \n",
    "        As = []\n",
    "        \n",
    "        for hop in range(1, self.k_hop + 1):\n",
    "            As.append(np.power(self.A, hop))\n",
    "        \n",
    "        self.A_k = np.stack(As, axis=0)\n",
    "        "
   ]
  },
  {
   "cell_type": "code",
   "execution_count": 9,
   "id": "15178e83-0c5e-42c9-a40d-dcdd84b77e65",
   "metadata": {},
   "outputs": [],
   "source": [
    "import torch\n",
    "import torch.nn as nn\n",
    "import torch.nn.functional as F\n",
    "\n",
    "class GCN(nn.Module):\n",
    "    def __init__(self, in_channels, out_channels):\n",
    "        super().__init__()\n",
    "        self.graph = PoseGraph()\n",
    "        A_k = torch.tensor(self.graph.A_k,\n",
    "                         dtype=torch.float32,\n",
    "                         requires_grad=False)\n",
    "        self.register_buffer('A_k', A_k)\n",
    "        \n",
    "        self.conv = nn.Conv2d(in_channels,\n",
    "                              out_channels * self.A_k.shape[0],\n",
    "                              kernel_size=(1, 1),\n",
    "                              padding=(0, 0),\n",
    "                              stride=(1, 1))\n",
    "        \n",
    "        if in_channels == out_channels:\n",
    "            self.residual = lambda x: x\n",
    "\n",
    "        else:\n",
    "            self.residual = nn.Sequential(\n",
    "                nn.Conv2d(\n",
    "                    in_channels,\n",
    "                    out_channels,\n",
    "                    kernel_size=1,\n",
    "                    stride=(1, 1)),\n",
    "                nn.BatchNorm2d(out_channels),\n",
    "            )\n",
    "        \n",
    "    def forward(self, x):\n",
    "        \n",
    "        res = self.residual(x)\n",
    "        \n",
    "        B, F, J, T = x.size()\n",
    "        \n",
    "        K = self.A_k.size()[0]\n",
    "        \n",
    "        x = self.conv(x)\n",
    "        B, KC, J, T = x.size()\n",
    "        \n",
    "        x = x.view(B, K, KC // K, J, T)\n",
    "        output = torch.einsum('bkcjt,kji->bcit', (x, self.A_k)) + res\n",
    "        \n",
    "        return output\n",
    "    \n",
    "class HACModel(nn.Module):\n",
    "    def __init__(self, num_class):\n",
    "        super().__init__()\n",
    "        \n",
    "        self.gcns = nn.ModuleList((\n",
    "            GCN(2, 16),\n",
    "            GCN(16, 32),\n",
    "            GCN(32, 64),           \n",
    "        ))\n",
    "        \n",
    "        self.fcn = nn.Conv2d(64, num_class, kernel_size=1)\n",
    "\n",
    "    def forward(self, x):\n",
    "        for gcn in self.gcns:\n",
    "            x = gcn(x)\n",
    "        x = F.avg_pool2d(x, x.size()[2:])\n",
    "        output = self.fcn(x).squeeze()\n",
    "        \n",
    "        return output"
   ]
  },
  {
   "cell_type": "code",
   "execution_count": 10,
   "id": "105399b7-edad-4d1f-b031-34290f1337fa",
   "metadata": {},
   "outputs": [
    {
     "name": "stdout",
     "output_type": "stream",
     "text": [
      "torch.Size([32, 10])\n",
      "tensor([[9],\n",
      "        [9],\n",
      "        [9],\n",
      "        [9],\n",
      "        [9],\n",
      "        [9],\n",
      "        [9],\n",
      "        [9],\n",
      "        [9],\n",
      "        [9],\n",
      "        [9],\n",
      "        [9],\n",
      "        [9],\n",
      "        [9],\n",
      "        [9],\n",
      "        [9],\n",
      "        [9],\n",
      "        [9],\n",
      "        [9],\n",
      "        [9],\n",
      "        [9],\n",
      "        [9],\n",
      "        [9],\n",
      "        [9],\n",
      "        [9],\n",
      "        [9],\n",
      "        [9],\n",
      "        [9],\n",
      "        [9],\n",
      "        [9],\n",
      "        [9],\n",
      "        [9]], device='cuda:0')\n"
     ]
    }
   ],
   "source": [
    "num_class = len(actions)\n",
    "model = HACModel(num_class).to('cuda')\n",
    "x = torch.rand((32, 2, 33, 1)).to('cuda')\n",
    "output = model(x)\n",
    "print(output.size())\n",
    "print(torch.argmax(output,dim=1,keepdim=True))"
   ]
  },
  {
   "cell_type": "code",
   "execution_count": 11,
   "id": "83d501a8-82ce-431c-af93-2442b12149f0",
   "metadata": {},
   "outputs": [],
   "source": [
    "pose_cols = [key + \"_x\" for key in W_LIST_POSE] + [key + \"_y\" for key in W_LIST_POSE]"
   ]
  },
  {
   "cell_type": "code",
   "execution_count": 12,
   "id": "1adbb03a-8364-4b8e-aa9d-34b63f50e7b5",
   "metadata": {},
   "outputs": [],
   "source": [
    "import torch.utils.data as data"
   ]
  },
  {
   "cell_type": "code",
   "execution_count": 13,
   "id": "9a62a77d-88c5-45d3-81c6-ef5abf69dcdc",
   "metadata": {},
   "outputs": [],
   "source": [
    "class Dataset(torch.utils.data.Dataset):\n",
    "    \n",
    "    def __init__(self, df):\n",
    "        self.df = df\n",
    "\n",
    "    def __len__(self):\n",
    "        return len(self.df)\n",
    "    \n",
    "    def __getitem__(self, idx):\n",
    "\n",
    "        x = self.df.loc[idx, pose_cols].values.astype('float')\n",
    "        y = self.df.loc[idx, 'label']\n",
    "\n",
    "        return x, y"
   ]
  },
  {
   "cell_type": "code",
   "execution_count": 14,
   "id": "6b1de9fa-54b6-4984-bd5c-20fd9b833575",
   "metadata": {},
   "outputs": [],
   "source": [
    "device = 'cuda'"
   ]
  },
  {
   "cell_type": "code",
   "execution_count": 15,
   "id": "8b253d7e-2e5b-4020-8694-0da3c82f6231",
   "metadata": {},
   "outputs": [
    {
     "data": {
      "text/plain": [
       "array([0, 0, 0, ..., 9, 9, 9], dtype=int64)"
      ]
     },
     "execution_count": 15,
     "metadata": {},
     "output_type": "execute_result"
    }
   ],
   "source": [
    "df_train['label'].values"
   ]
  },
  {
   "cell_type": "code",
   "execution_count": 16,
   "id": "0f77aee3-a0b5-4499-a07d-33870af0c58b",
   "metadata": {},
   "outputs": [],
   "source": [
    "num_class = len(actions)\n",
    "model = HACModel(num_class).to('cuda')\n",
    "loss_fn = nn.CrossEntropyLoss()\n",
    "optimizer = torch.optim.Adam(model.parameters(), lr=0.001)"
   ]
  },
  {
   "cell_type": "code",
   "execution_count": null,
   "id": "f3c9253c-51e8-4b9b-a153-21af4c944c8b",
   "metadata": {},
   "outputs": [
    {
     "name": "stderr",
     "output_type": "stream",
     "text": [
      "  1%|▊                                                                                 | 1/100 [00:03<05:45,  3.49s/it]"
     ]
    },
    {
     "name": "stdout",
     "output_type": "stream",
     "text": [
      "epoch: 1.795308202699898\n",
      "acc: 0.5454731667349447\n"
     ]
    },
    {
     "name": "stderr",
     "output_type": "stream",
     "text": [
      "  2%|█▋                                                                                | 2/100 [00:06<05:42,  3.49s/it]"
     ]
    },
    {
     "name": "stdout",
     "output_type": "stream",
     "text": [
      "epoch: 0.8956977662697337\n",
      "acc: 0.6845555100368701\n"
     ]
    },
    {
     "name": "stderr",
     "output_type": "stream",
     "text": [
      "  3%|██▍                                                                               | 3/100 [00:10<05:38,  3.49s/it]"
     ]
    },
    {
     "name": "stdout",
     "output_type": "stream",
     "text": [
      "epoch: 0.8137594025119458\n",
      "acc: 0.7103646046702171\n"
     ]
    },
    {
     "name": "stderr",
     "output_type": "stream",
     "text": [
      "  4%|███▎                                                                              | 4/100 [00:13<05:35,  3.49s/it]"
     ]
    },
    {
     "name": "stdout",
     "output_type": "stream",
     "text": [
      "epoch: 0.7676736283925624\n",
      "acc: 0.7365833674723474\n"
     ]
    },
    {
     "name": "stderr",
     "output_type": "stream",
     "text": [
      "  5%|████                                                                              | 5/100 [00:17<05:32,  3.50s/it]"
     ]
    },
    {
     "name": "stdout",
     "output_type": "stream",
     "text": [
      "epoch: 0.766066242472019\n",
      "acc: 0.7429332240884883\n"
     ]
    },
    {
     "name": "stderr",
     "output_type": "stream",
     "text": [
      "  6%|████▉                                                                             | 6/100 [00:21<05:30,  3.51s/it]"
     ]
    },
    {
     "name": "stdout",
     "output_type": "stream",
     "text": [
      "epoch: 0.7894729638800901\n",
      "acc: 0.7242933224088488\n"
     ]
    },
    {
     "name": "stderr",
     "output_type": "stream",
     "text": [
      "  7%|█████▋                                                                            | 7/100 [00:24<05:28,  3.53s/it]"
     ]
    },
    {
     "name": "stdout",
     "output_type": "stream",
     "text": [
      "epoch: 0.72921020922318\n",
      "acc: 0.7525604260548955\n"
     ]
    },
    {
     "name": "stderr",
     "output_type": "stream",
     "text": [
      "  8%|██████▌                                                                           | 8/100 [00:28<05:23,  3.52s/it]"
     ]
    },
    {
     "name": "stdout",
     "output_type": "stream",
     "text": [
      "epoch: 0.7215733957641265\n",
      "acc: 0.7548136009832036\n"
     ]
    },
    {
     "name": "stderr",
     "output_type": "stream",
     "text": [
      "  9%|███████▍                                                                          | 9/100 [00:31<05:18,  3.50s/it]"
     ]
    },
    {
     "name": "stdout",
     "output_type": "stream",
     "text": [
      "epoch: 0.706970660125508\n",
      "acc: 0.7615731257681279\n"
     ]
    },
    {
     "name": "stderr",
     "output_type": "stream",
     "text": [
      " 10%|████████                                                                         | 10/100 [00:35<05:15,  3.50s/it]"
     ]
    },
    {
     "name": "stdout",
     "output_type": "stream",
     "text": [
      "epoch: 0.6917211080298704\n",
      "acc: 0.7726341663252765\n"
     ]
    },
    {
     "name": "stderr",
     "output_type": "stream",
     "text": [
      " 11%|████████▉                                                                        | 11/100 [00:38<05:11,  3.50s/it]"
     ]
    },
    {
     "name": "stdout",
     "output_type": "stream",
     "text": [
      "epoch: 0.6969868938128153\n",
      "acc: 0.7759115116755428\n"
     ]
    },
    {
     "name": "stderr",
     "output_type": "stream",
     "text": [
      " 12%|█████████▋                                                                       | 12/100 [00:41<05:06,  3.49s/it]"
     ]
    },
    {
     "name": "stdout",
     "output_type": "stream",
     "text": [
      "epoch: 0.6944957118408353\n",
      "acc: 0.7765260139287178\n"
     ]
    },
    {
     "name": "stderr",
     "output_type": "stream",
     "text": [
      " 13%|██████████▌                                                                      | 13/100 [00:45<05:03,  3.49s/it]"
     ]
    },
    {
     "name": "stdout",
     "output_type": "stream",
     "text": [
      "epoch: 0.6874966481152702\n",
      "acc: 0.7841048750512085\n"
     ]
    },
    {
     "name": "stderr",
     "output_type": "stream",
     "text": [
      " 14%|███████████▎                                                                     | 14/100 [00:48<05:00,  3.49s/it]"
     ]
    },
    {
     "name": "stdout",
     "output_type": "stream",
     "text": [
      "epoch: 0.686959465344747\n",
      "acc: 0.7843097091356002\n"
     ]
    },
    {
     "name": "stderr",
     "output_type": "stream",
     "text": [
      " 15%|████████████▏                                                                    | 15/100 [00:52<04:55,  3.48s/it]"
     ]
    },
    {
     "name": "stdout",
     "output_type": "stream",
     "text": [
      "epoch: 0.67463895308426\n",
      "acc: 0.7847193773043835\n"
     ]
    },
    {
     "name": "stderr",
     "output_type": "stream",
     "text": [
      " 16%|████████████▉                                                                    | 16/100 [00:55<04:53,  3.49s/it]"
     ]
    },
    {
     "name": "stdout",
     "output_type": "stream",
     "text": [
      "epoch: 0.673707109066396\n",
      "acc: 0.7957804178615322\n"
     ]
    },
    {
     "name": "stderr",
     "output_type": "stream",
     "text": [
      " 17%|█████████████▊                                                                   | 17/100 [00:59<04:49,  3.49s/it]"
     ]
    },
    {
     "name": "stdout",
     "output_type": "stream",
     "text": [
      "epoch: 0.6694340273445728\n",
      "acc: 0.7968045882834903\n"
     ]
    },
    {
     "name": "stderr",
     "output_type": "stream",
     "text": [
      " 18%|██████████████▌                                                                  | 18/100 [01:02<04:45,  3.49s/it]"
     ]
    },
    {
     "name": "stdout",
     "output_type": "stream",
     "text": [
      "epoch: 0.6679233363251281\n",
      "acc: 0.7935272429332241\n"
     ]
    },
    {
     "name": "stderr",
     "output_type": "stream",
     "text": [
      " 19%|███████████████▍                                                                 | 19/100 [01:06<04:43,  3.49s/it]"
     ]
    },
    {
     "name": "stdout",
     "output_type": "stream",
     "text": [
      "epoch: 0.6806113303097245\n",
      "acc: 0.7894305612453912\n"
     ]
    },
    {
     "name": "stderr",
     "output_type": "stream",
     "text": [
      " 20%|████████████████▏                                                                | 20/100 [01:09<04:38,  3.49s/it]"
     ]
    },
    {
     "name": "stdout",
     "output_type": "stream",
     "text": [
      "epoch: 0.6717749900288053\n",
      "acc: 0.7890208930766079\n"
     ]
    },
    {
     "name": "stderr",
     "output_type": "stream",
     "text": [
      " 21%|█████████████████                                                                | 21/100 [01:13<04:35,  3.49s/it]"
     ]
    },
    {
     "name": "stdout",
     "output_type": "stream",
     "text": [
      "epoch: 0.6410902773632723\n",
      "acc: 0.8037689471528062\n"
     ]
    },
    {
     "name": "stderr",
     "output_type": "stream",
     "text": [
      " 22%|█████████████████▊                                                               | 22/100 [01:16<04:33,  3.50s/it]"
     ]
    },
    {
     "name": "stdout",
     "output_type": "stream",
     "text": [
      "epoch: 0.646272215967864\n",
      "acc: 0.8080704629250307\n"
     ]
    },
    {
     "name": "stderr",
     "output_type": "stream",
     "text": [
      " 23%|██████████████████▋                                                              | 23/100 [01:20<04:29,  3.50s/it]"
     ]
    },
    {
     "name": "stdout",
     "output_type": "stream",
     "text": [
      "epoch: 0.6609010964242461\n",
      "acc: 0.7886112249078246\n"
     ]
    },
    {
     "name": "stderr",
     "output_type": "stream",
     "text": [
      " 24%|███████████████████▍                                                             | 24/100 [01:23<04:26,  3.51s/it]"
     ]
    },
    {
     "name": "stdout",
     "output_type": "stream",
     "text": [
      "epoch: 0.6520219295243033\n",
      "acc: 0.8033592789840229\n"
     ]
    },
    {
     "name": "stderr",
     "output_type": "stream",
     "text": [
      " 25%|████████████████████▎                                                            | 25/100 [01:27<04:22,  3.50s/it]"
     ]
    },
    {
     "name": "stdout",
     "output_type": "stream",
     "text": [
      "epoch: 0.6400805931854872\n",
      "acc: 0.7992625972961901\n"
     ]
    },
    {
     "name": "stderr",
     "output_type": "stream",
     "text": [
      " 26%|█████████████████████                                                            | 26/100 [01:30<04:19,  3.50s/it]"
     ]
    },
    {
     "name": "stdout",
     "output_type": "stream",
     "text": [
      "epoch: 0.6508345243587993\n",
      "acc: 0.8041786153215895\n"
     ]
    },
    {
     "name": "stderr",
     "output_type": "stream",
     "text": [
      " 27%|█████████████████████▊                                                           | 27/100 [01:34<04:17,  3.53s/it]"
     ]
    },
    {
     "name": "stdout",
     "output_type": "stream",
     "text": [
      "epoch: 0.6448624196395375\n",
      "acc: 0.8052027857435478\n"
     ]
    },
    {
     "name": "stderr",
     "output_type": "stream",
     "text": [
      " 28%|██████████████████████▋                                                          | 28/100 [01:38<04:13,  3.53s/it]"
     ]
    },
    {
     "name": "stdout",
     "output_type": "stream",
     "text": [
      "epoch: 0.6286240848256093\n",
      "acc: 0.8152396558787383\n"
     ]
    },
    {
     "name": "stderr",
     "output_type": "stream",
     "text": [
      " 29%|███████████████████████▍                                                         | 29/100 [01:41<04:11,  3.54s/it]"
     ]
    },
    {
     "name": "stdout",
     "output_type": "stream",
     "text": [
      "epoch: 0.6274678157825097\n",
      "acc: 0.8066366243342892\n"
     ]
    },
    {
     "name": "stderr",
     "output_type": "stream",
     "text": [
      " 30%|████████████████████████▎                                                        | 30/100 [01:45<04:07,  3.54s/it]"
     ]
    },
    {
     "name": "stdout",
     "output_type": "stream",
     "text": [
      "epoch: 0.6213026900891385\n",
      "acc: 0.8150348217943466\n"
     ]
    },
    {
     "name": "stderr",
     "output_type": "stream",
     "text": [
      " 31%|█████████████████████████                                                        | 31/100 [01:48<04:02,  3.52s/it]"
     ]
    },
    {
     "name": "stdout",
     "output_type": "stream",
     "text": [
      "epoch: 0.613214265287312\n",
      "acc: 0.8160589922163048\n"
     ]
    },
    {
     "name": "stderr",
     "output_type": "stream",
     "text": [
      " 32%|█████████████████████████▉                                                       | 32/100 [01:52<03:58,  3.51s/it]"
     ]
    },
    {
     "name": "stdout",
     "output_type": "stream",
     "text": [
      "epoch: 0.6086495875143537\n",
      "acc: 0.8203605079885293\n"
     ]
    },
    {
     "name": "stderr",
     "output_type": "stream",
     "text": [
      " 33%|██████████████████████████▋                                                      | 33/100 [01:55<03:55,  3.51s/it]"
     ]
    },
    {
     "name": "stdout",
     "output_type": "stream",
     "text": [
      "epoch: 0.6157514051674238\n",
      "acc: 0.8189266693977878\n"
     ]
    },
    {
     "name": "stderr",
     "output_type": "stream",
     "text": [
      " 34%|███████████████████████████▌                                                     | 34/100 [01:59<03:51,  3.50s/it]"
     ]
    },
    {
     "name": "stdout",
     "output_type": "stream",
     "text": [
      "epoch: 0.608479251464208\n",
      "acc: 0.8183121671446129\n"
     ]
    },
    {
     "name": "stderr",
     "output_type": "stream",
     "text": [
      " 35%|████████████████████████████▎                                                    | 35/100 [02:02<03:47,  3.49s/it]"
     ]
    },
    {
     "name": "stdout",
     "output_type": "stream",
     "text": [
      "epoch: 0.6091579321552726\n",
      "acc: 0.8185170012290045\n"
     ]
    },
    {
     "name": "stderr",
     "output_type": "stream",
     "text": [
      " 36%|█████████████████████████████▏                                                   | 36/100 [02:06<03:43,  3.50s/it]"
     ]
    },
    {
     "name": "stdout",
     "output_type": "stream",
     "text": [
      "epoch: 0.6110684022404789\n",
      "acc: 0.8117574764440803\n"
     ]
    },
    {
     "name": "stderr",
     "output_type": "stream",
     "text": [
      " 37%|█████████████████████████████▉                                                   | 37/100 [02:09<03:40,  3.50s/it]"
     ]
    },
    {
     "name": "stdout",
     "output_type": "stream",
     "text": [
      "epoch: 0.6095266829129138\n",
      "acc: 0.8103236378533388\n"
     ]
    },
    {
     "name": "stderr",
     "output_type": "stream",
     "text": [
      " 38%|██████████████████████████████▊                                                  | 38/100 [02:13<03:37,  3.50s/it]"
     ]
    },
    {
     "name": "stdout",
     "output_type": "stream",
     "text": [
      "epoch: 0.6009555248653188\n",
      "acc: 0.8183121671446129\n"
     ]
    },
    {
     "name": "stderr",
     "output_type": "stream",
     "text": [
      " 39%|███████████████████████████████▌                                                 | 39/100 [02:16<03:33,  3.50s/it]"
     ]
    },
    {
     "name": "stdout",
     "output_type": "stream",
     "text": [
      "epoch: 0.6030375049784292\n",
      "acc: 0.8181073330602212\n"
     ]
    },
    {
     "name": "stderr",
     "output_type": "stream",
     "text": [
      " 40%|████████████████████████████████▍                                                | 40/100 [02:20<03:29,  3.50s/it]"
     ]
    },
    {
     "name": "stdout",
     "output_type": "stream",
     "text": [
      "epoch: 0.5892638121944627\n",
      "acc: 0.8244571896763622\n"
     ]
    },
    {
     "name": "stderr",
     "output_type": "stream",
     "text": [
      " 41%|█████████████████████████████████▏                                               | 41/100 [02:23<03:27,  3.51s/it]"
     ]
    },
    {
     "name": "stdout",
     "output_type": "stream",
     "text": [
      "epoch: 0.5790498878052032\n",
      "acc: 0.8361327324866857\n"
     ]
    },
    {
     "name": "stderr",
     "output_type": "stream",
     "text": [
      " 42%|██████████████████████████████████                                               | 42/100 [02:27<03:23,  3.51s/it]"
     ]
    },
    {
     "name": "stdout",
     "output_type": "stream",
     "text": [
      "epoch: 0.5782834362555174\n",
      "acc: 0.8334698893895944\n"
     ]
    },
    {
     "name": "stderr",
     "output_type": "stream",
     "text": [
      " 43%|██████████████████████████████████▊                                              | 43/100 [02:30<03:18,  3.49s/it]"
     ]
    },
    {
     "name": "stdout",
     "output_type": "stream",
     "text": [
      "epoch: 0.5786373134142433\n",
      "acc: 0.8287587054485867\n"
     ]
    },
    {
     "name": "stderr",
     "output_type": "stream",
     "text": [
      " 44%|███████████████████████████████████▋                                             | 44/100 [02:34<03:15,  3.49s/it]"
     ]
    },
    {
     "name": "stdout",
     "output_type": "stream",
     "text": [
      "epoch: 0.5667581407268063\n",
      "acc: 0.8383859074149939\n"
     ]
    },
    {
     "name": "stderr",
     "output_type": "stream",
     "text": [
      " 45%|████████████████████████████████████▍                                            | 45/100 [02:37<03:12,  3.49s/it]"
     ]
    },
    {
     "name": "stdout",
     "output_type": "stream",
     "text": [
      "epoch: 0.5728627645891476\n",
      "acc: 0.8363375665710774\n"
     ]
    },
    {
     "name": "stderr",
     "output_type": "stream",
     "text": [
      " 46%|█████████████████████████████████████▎                                           | 46/100 [02:41<03:08,  3.48s/it]"
     ]
    },
    {
     "name": "stdout",
     "output_type": "stream",
     "text": [
      "epoch: 0.5626227362872729\n",
      "acc: 0.8293732077017616\n"
     ]
    },
    {
     "name": "stderr",
     "output_type": "stream",
     "text": [
      " 47%|██████████████████████████████████████                                           | 47/100 [02:44<03:04,  3.48s/it]"
     ]
    },
    {
     "name": "stdout",
     "output_type": "stream",
     "text": [
      "epoch: 0.5680817448430591\n",
      "acc: 0.8230233510856206\n"
     ]
    },
    {
     "name": "stderr",
     "output_type": "stream",
     "text": [
      " 48%|██████████████████████████████████████▉                                          | 48/100 [02:47<03:01,  3.48s/it]"
     ]
    },
    {
     "name": "stdout",
     "output_type": "stream",
     "text": [
      "epoch: 0.582898906340786\n",
      "acc: 0.8279393691110201\n"
     ]
    },
    {
     "name": "stderr",
     "output_type": "stream",
     "text": [
      " 49%|███████████████████████████████████████▋                                         | 49/100 [02:51<02:57,  3.49s/it]"
     ]
    },
    {
     "name": "stdout",
     "output_type": "stream",
     "text": [
      "epoch: 0.5731739026853462\n",
      "acc: 0.8248668578451455\n"
     ]
    },
    {
     "name": "stderr",
     "output_type": "stream",
     "text": [
      " 50%|████████████████████████████████████████▌                                        | 50/100 [02:54<02:54,  3.49s/it]"
     ]
    },
    {
     "name": "stdout",
     "output_type": "stream",
     "text": [
      "epoch: 0.5438906192974328\n",
      "acc: 0.8412535845964768\n"
     ]
    },
    {
     "name": "stderr",
     "output_type": "stream",
     "text": [
      " 51%|█████████████████████████████████████████▎                                       | 51/100 [02:58<02:51,  3.49s/it]"
     ]
    },
    {
     "name": "stdout",
     "output_type": "stream",
     "text": [
      "epoch: 0.5482259508636262\n",
      "acc: 0.8426874231872183\n"
     ]
    },
    {
     "name": "stderr",
     "output_type": "stream",
     "text": [
      " 52%|██████████████████████████████████████████                                       | 52/100 [03:01<02:47,  3.49s/it]"
     ]
    },
    {
     "name": "stdout",
     "output_type": "stream",
     "text": [
      "epoch: 0.5342115278727089\n",
      "acc: 0.8484227775501844\n"
     ]
    },
    {
     "name": "stderr",
     "output_type": "stream",
     "text": [
      " 53%|██████████████████████████████████████████▉                                      | 53/100 [03:05<02:44,  3.49s/it]"
     ]
    },
    {
     "name": "stdout",
     "output_type": "stream",
     "text": [
      "epoch: 0.5671483786667094\n",
      "acc: 0.8250716919295371\n"
     ]
    },
    {
     "name": "stderr",
     "output_type": "stream",
     "text": [
      " 54%|███████████████████████████████████████████▋                                     | 54/100 [03:08<02:40,  3.49s/it]"
     ]
    },
    {
     "name": "stdout",
     "output_type": "stream",
     "text": [
      "epoch: 0.5306960459238563\n",
      "acc: 0.8467841048750512\n"
     ]
    },
    {
     "name": "stderr",
     "output_type": "stream",
     "text": [
      " 55%|████████████████████████████████████████████▌                                    | 55/100 [03:12<02:37,  3.49s/it]"
     ]
    },
    {
     "name": "stdout",
     "output_type": "stream",
     "text": [
      "epoch: 0.5248979877412708\n",
      "acc: 0.8457599344530929\n"
     ]
    },
    {
     "name": "stderr",
     "output_type": "stream",
     "text": [
      " 56%|█████████████████████████████████████████████▎                                   | 56/100 [03:15<02:34,  3.50s/it]"
     ]
    },
    {
     "name": "stdout",
     "output_type": "stream",
     "text": [
      "epoch: 0.5341006601168439\n",
      "acc: 0.8410487505120852\n"
     ]
    },
    {
     "name": "stderr",
     "output_type": "stream",
     "text": [
      " 57%|██████████████████████████████████████████████▏                                  | 57/100 [03:19<02:30,  3.50s/it]"
     ]
    },
    {
     "name": "stdout",
     "output_type": "stream",
     "text": [
      "epoch: 0.5226680164048875\n",
      "acc: 0.8521097910692339\n"
     ]
    },
    {
     "name": "stderr",
     "output_type": "stream",
     "text": [
      " 58%|██████████████████████████████████████████████▉                                  | 58/100 [03:22<02:27,  3.51s/it]"
     ]
    },
    {
     "name": "stdout",
     "output_type": "stream",
     "text": [
      "epoch: 0.508077602955251\n",
      "acc: 0.8547726341663253\n"
     ]
    },
    {
     "name": "stderr",
     "output_type": "stream",
     "text": [
      " 59%|███████████████████████████████████████████████▊                                 | 59/100 [03:26<02:23,  3.50s/it]"
     ]
    },
    {
     "name": "stdout",
     "output_type": "stream",
     "text": [
      "epoch: 0.5023208713414622\n",
      "acc: 0.8576403113478083\n"
     ]
    },
    {
     "name": "stderr",
     "output_type": "stream",
     "text": [
      " 60%|████████████████████████████████████████████████▌                                | 60/100 [03:29<02:19,  3.49s/it]"
     ]
    },
    {
     "name": "stdout",
     "output_type": "stream",
     "text": [
      "epoch: 0.5104389138081494\n",
      "acc: 0.8482179434657927\n"
     ]
    },
    {
     "name": "stderr",
     "output_type": "stream",
     "text": [
      " 61%|█████████████████████████████████████████████████▍                               | 61/100 [03:33<02:16,  3.49s/it]"
     ]
    },
    {
     "name": "stdout",
     "output_type": "stream",
     "text": [
      "epoch: 0.5061776900018742\n",
      "acc: 0.8519049569848423\n"
     ]
    },
    {
     "name": "stderr",
     "output_type": "stream",
     "text": [
      " 62%|██████████████████████████████████████████████████▏                              | 62/100 [03:36<02:12,  3.48s/it]"
     ]
    },
    {
     "name": "stdout",
     "output_type": "stream",
     "text": [
      "epoch: 0.5101320317952461\n",
      "acc: 0.8443260958623515\n"
     ]
    },
    {
     "name": "stderr",
     "output_type": "stream",
     "text": [
      " 63%|███████████████████████████████████████████████████                              | 63/100 [03:40<02:08,  3.47s/it]"
     ]
    },
    {
     "name": "stdout",
     "output_type": "stream",
     "text": [
      "epoch: 0.5118171533727958\n",
      "acc: 0.8445309299467432\n"
     ]
    },
    {
     "name": "stderr",
     "output_type": "stream",
     "text": [
      " 64%|███████████████████████████████████████████████████▊                             | 64/100 [03:43<02:05,  3.49s/it]"
     ]
    },
    {
     "name": "stdout",
     "output_type": "stream",
     "text": [
      "epoch: 0.4941522621251399\n",
      "acc: 0.8553871364195003\n"
     ]
    },
    {
     "name": "stderr",
     "output_type": "stream",
     "text": [
      " 65%|████████████████████████████████████████████████████▋                            | 65/100 [03:47<02:02,  3.50s/it]"
     ]
    },
    {
     "name": "stdout",
     "output_type": "stream",
     "text": [
      "epoch: 0.47983546905657826\n",
      "acc: 0.869315854158132\n"
     ]
    },
    {
     "name": "stderr",
     "output_type": "stream",
     "text": [
      " 66%|█████████████████████████████████████████████████████▍                           | 66/100 [03:50<01:59,  3.50s/it]"
     ]
    },
    {
     "name": "stdout",
     "output_type": "stream",
     "text": [
      "epoch: 0.48164797773937773\n",
      "acc: 0.860098320360508\n"
     ]
    }
   ],
   "source": [
    "dataset = Dataset(df_train)\n",
    "train_loader = torch.utils.data.DataLoader(dataset, batch_size=32, shuffle=True)\n",
    "for epoch in tqdm(range(0, 100)):\n",
    "    epoch_loss = 0.0\n",
    "    epoch_acc = 0.0\n",
    "    count = 0\n",
    "    for x, y in train_loader:\n",
    "        x = x.view(-1, 2, 33, 1).to(device).float()\n",
    "        y = y.to(device)\n",
    "        \n",
    "        optimizer.zero_grad()\n",
    "        pred = model(x)\n",
    "        loss = loss_fn(pred, y)\n",
    "        \n",
    "        #epoch_acc += pred\n",
    "        epoch_loss += loss.item()\n",
    "        loss.backward()\n",
    "        \n",
    "        epoch_acc += (pred.argmax(axis=1, keepdim=True).squeeze() == y).sum().item()\n",
    "        optimizer.step()\n",
    "        count += x.size()[0]\n",
    "        \n",
    "    print(\"epoch:\", epoch_loss / len(train_loader))\n",
    "    print(\"acc:\", epoch_acc / count)"
   ]
  },
  {
   "cell_type": "code",
   "execution_count": null,
   "id": "eba435c9-4178-4627-ace9-2cc5ec547f91",
   "metadata": {},
   "outputs": [],
   "source": []
  }
 ],
 "metadata": {
  "kernelspec": {
   "display_name": "Python 3",
   "language": "python",
   "name": "python3"
  },
  "language_info": {
   "codemirror_mode": {
    "name": "ipython",
    "version": 3
   },
   "file_extension": ".py",
   "mimetype": "text/x-python",
   "name": "python",
   "nbconvert_exporter": "python",
   "pygments_lexer": "ipython3",
   "version": "3.7.7"
  }
 },
 "nbformat": 4,
 "nbformat_minor": 5
}
