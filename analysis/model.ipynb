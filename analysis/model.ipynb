{
 "cells": [
  {
   "cell_type": "code",
   "execution_count": 1,
   "id": "9451368d-c8d6-46ae-9f1c-a8413561a22a",
   "metadata": {},
   "outputs": [],
   "source": [
    "import os\n",
    "os.chdir('..')"
   ]
  },
  {
   "cell_type": "code",
   "execution_count": 2,
   "id": "1eabd9c7-77cf-4b8f-8cd6-2c3c42c8438a",
   "metadata": {},
   "outputs": [],
   "source": [
    "%load_ext autoreload\n",
    "%autoreload 2\n",
    "\n",
    "import scipy.stats as stats \n",
    "import numpy as np\n",
    "import pandas as pd\n",
    "import torch\n",
    "import random\n",
    "import sys\n",
    "import matplotlib.pyplot as plt\n",
    "import torch\n",
    "import torch.nn as nn\n",
    "import time\n",
    "from tqdm import tqdm\n",
    "from pathlib import Path\n",
    "from hac.model import HACModel\n",
    "\n",
    "from hac.utils.key_points import W_LIST_POSE, W2I_POSE, \\\n",
    "                                 W_LIST_LEFT_HAND, W2I_LEFT_HAND, \\\n",
    "                                 W_LIST_RIGHT_HAND, W2I_RIGHT_HAND, \\\n",
    "                                 X_COLS, Y_COLS, \\\n",
    "                                 ALL_XY_COLS, HAND_XY_COLS, \\\n",
    "                                 LEFT_HAND_X_COLS, LEFT_HAND_Y_COLS, \\\n",
    "                                 RIGHT_HAND_X_COLS, RIGHT_HAND_Y_COLS\n",
    "from hac.utils.normalizer import normalize_data, normalize_hand_data"
   ]
  },
  {
   "cell_type": "code",
   "execution_count": 3,
   "id": "f1823f7c-661e-499a-80b7-b1244d25892a",
   "metadata": {},
   "outputs": [
    {
     "data": {
      "text/plain": [
       "'C:\\\\Users\\\\JAQQ\\\\YOLO\\\\hac'"
      ]
     },
     "execution_count": 3,
     "metadata": {},
     "output_type": "execute_result"
    }
   ],
   "source": [
    "os.getcwd()"
   ]
  },
  {
   "cell_type": "code",
   "execution_count": 4,
   "id": "5a22a85a-4208-4022-9544-45efe2a04046",
   "metadata": {},
   "outputs": [],
   "source": [
    "torch.random.manual_seed(5566)\n",
    "np.random.seed(5566)\n",
    "random.seed(5566)"
   ]
  },
  {
   "cell_type": "code",
   "execution_count": 5,
   "id": "ff2722d6-4659-491e-822e-08e6949e42b4",
   "metadata": {},
   "outputs": [
    {
     "name": "stdout",
     "output_type": "stream",
     "text": [
      "data\\actions\\r_five\\data.csv\n",
      "data\\actions\\r_zero\\data.csv\n",
      "data\\actions\\l_five\\data.csv\n",
      "data\\actions\\l_zero\\data.csv\n",
      "data\\actions\\two_index_fingers_up\\data.csv\n",
      "data\\actions\\two_index_fingers_down\\data.csv\n",
      "data\\actions\\33\\data.csv\n",
      "data\\actions\\55\\data.csv\n",
      "data\\actions\\sit\\data.csv\n"
     ]
    }
   ],
   "source": [
    "data_path = \"data\\\\actions\"\n",
    "model_target = \"gestures\"\n",
    "\n",
    "if model_target == \"actions\":\n",
    "    mode = \"pose_hand\"\n",
    "    model_name = \"roblox_lift_game\"\n",
    "    actions = [\"walk\", \"jump\", \"hands_on_hips\", \"point_left\", \"point_right\", \"arms_lift\", \"punch\", \"trample\", \"lateral_raise\", \"stand\"]\n",
    "    target_columns_x = ALL_XY_COLS.copy()\n",
    "    ALL_XY_COLS += [\"image_name\", \"label\"] # keep label\n",
    "elif model_target == \"gestures\":\n",
    "    mode = \"hand\"\n",
    "    model_name = \"mouse\"\n",
    "    actions = [\"r_five\", \"r_zero\", \"l_five\", \"l_zero\", \"two_index_fingers_up\", \"two_index_fingers_down\", \"33\", \"55\", \"sit\"]\n",
    "    target_columns_x = HAND_XY_COLS.copy()\n",
    "    HAND_XY_COLS += [\"image_name\", \"label\"] # keep label\n",
    "else:\n",
    "    RunTimeError(\"???\")\n",
    "\n",
    "dfs = []\n",
    "for idx, action in enumerate(actions):\n",
    "    file_path = os.path.join(data_path, action, \"data.csv\")\n",
    "    print(file_path)\n",
    "    df = pd.read_csv(file_path)\n",
    "\n",
    "    df.label = idx\n",
    "    dfs.append(df)"
   ]
  },
  {
   "cell_type": "code",
   "execution_count": 6,
   "id": "fa32dd35-ea38-4e6a-b3e5-4d77cbfedfeb",
   "metadata": {},
   "outputs": [
    {
     "data": {
      "text/html": [
       "<div>\n",
       "<style scoped>\n",
       "    .dataframe tbody tr th:only-of-type {\n",
       "        vertical-align: middle;\n",
       "    }\n",
       "\n",
       "    .dataframe tbody tr th {\n",
       "        vertical-align: top;\n",
       "    }\n",
       "\n",
       "    .dataframe thead th {\n",
       "        text-align: right;\n",
       "    }\n",
       "</style>\n",
       "<table border=\"1\" class=\"dataframe\">\n",
       "  <thead>\n",
       "    <tr style=\"text-align: right;\">\n",
       "      <th></th>\n",
       "      <th>n_x</th>\n",
       "      <th>n_y</th>\n",
       "      <th>n_v</th>\n",
       "      <th>lei_x</th>\n",
       "      <th>lei_y</th>\n",
       "      <th>lei_v</th>\n",
       "      <th>le_x</th>\n",
       "      <th>le_y</th>\n",
       "      <th>le_v</th>\n",
       "      <th>leo_x</th>\n",
       "      <th>...</th>\n",
       "      <th>r_p_p_y</th>\n",
       "      <th>r_p_p_v</th>\n",
       "      <th>r_p_d_x</th>\n",
       "      <th>r_p_d_y</th>\n",
       "      <th>r_p_d_v</th>\n",
       "      <th>r_p_t_x</th>\n",
       "      <th>r_p_t_y</th>\n",
       "      <th>r_p_t_v</th>\n",
       "      <th>image_name</th>\n",
       "      <th>label</th>\n",
       "    </tr>\n",
       "  </thead>\n",
       "  <tbody>\n",
       "    <tr>\n",
       "      <th>0</th>\n",
       "      <td>0.569559</td>\n",
       "      <td>0.515890</td>\n",
       "      <td>0.999972</td>\n",
       "      <td>0.591710</td>\n",
       "      <td>0.552451</td>\n",
       "      <td>0.999902</td>\n",
       "      <td>0.602856</td>\n",
       "      <td>0.548133</td>\n",
       "      <td>0.999926</td>\n",
       "      <td>0.616494</td>\n",
       "      <td>...</td>\n",
       "      <td>0.513827</td>\n",
       "      <td>0.0</td>\n",
       "      <td>0.323141</td>\n",
       "      <td>0.547200</td>\n",
       "      <td>0.0</td>\n",
       "      <td>0.321647</td>\n",
       "      <td>0.579914</td>\n",
       "      <td>0.0</td>\n",
       "      <td>1626748318621.png</td>\n",
       "      <td>0</td>\n",
       "    </tr>\n",
       "    <tr>\n",
       "      <th>1</th>\n",
       "      <td>0.555219</td>\n",
       "      <td>0.507870</td>\n",
       "      <td>0.999974</td>\n",
       "      <td>0.577608</td>\n",
       "      <td>0.545067</td>\n",
       "      <td>0.999904</td>\n",
       "      <td>0.589006</td>\n",
       "      <td>0.540769</td>\n",
       "      <td>0.999931</td>\n",
       "      <td>0.602398</td>\n",
       "      <td>...</td>\n",
       "      <td>0.514952</td>\n",
       "      <td>0.0</td>\n",
       "      <td>0.322457</td>\n",
       "      <td>0.547779</td>\n",
       "      <td>0.0</td>\n",
       "      <td>0.320947</td>\n",
       "      <td>0.578922</td>\n",
       "      <td>0.0</td>\n",
       "      <td>1626748318702.png</td>\n",
       "      <td>0</td>\n",
       "    </tr>\n",
       "    <tr>\n",
       "      <th>2</th>\n",
       "      <td>0.552745</td>\n",
       "      <td>0.499431</td>\n",
       "      <td>0.999976</td>\n",
       "      <td>0.574333</td>\n",
       "      <td>0.537147</td>\n",
       "      <td>0.999909</td>\n",
       "      <td>0.586843</td>\n",
       "      <td>0.533208</td>\n",
       "      <td>0.999936</td>\n",
       "      <td>0.599682</td>\n",
       "      <td>...</td>\n",
       "      <td>0.513422</td>\n",
       "      <td>0.0</td>\n",
       "      <td>0.321527</td>\n",
       "      <td>0.546173</td>\n",
       "      <td>0.0</td>\n",
       "      <td>0.319171</td>\n",
       "      <td>0.577866</td>\n",
       "      <td>0.0</td>\n",
       "      <td>1626748318764.png</td>\n",
       "      <td>0</td>\n",
       "    </tr>\n",
       "    <tr>\n",
       "      <th>3</th>\n",
       "      <td>0.554274</td>\n",
       "      <td>0.496619</td>\n",
       "      <td>0.999977</td>\n",
       "      <td>0.575574</td>\n",
       "      <td>0.534501</td>\n",
       "      <td>0.999912</td>\n",
       "      <td>0.588492</td>\n",
       "      <td>0.530744</td>\n",
       "      <td>0.999940</td>\n",
       "      <td>0.600943</td>\n",
       "      <td>...</td>\n",
       "      <td>0.513384</td>\n",
       "      <td>0.0</td>\n",
       "      <td>0.321117</td>\n",
       "      <td>0.545780</td>\n",
       "      <td>0.0</td>\n",
       "      <td>0.318958</td>\n",
       "      <td>0.576631</td>\n",
       "      <td>0.0</td>\n",
       "      <td>1626748318827.png</td>\n",
       "      <td>0</td>\n",
       "    </tr>\n",
       "    <tr>\n",
       "      <th>4</th>\n",
       "      <td>0.552750</td>\n",
       "      <td>0.497576</td>\n",
       "      <td>0.999979</td>\n",
       "      <td>0.574484</td>\n",
       "      <td>0.535510</td>\n",
       "      <td>0.999915</td>\n",
       "      <td>0.587696</td>\n",
       "      <td>0.531233</td>\n",
       "      <td>0.999944</td>\n",
       "      <td>0.599823</td>\n",
       "      <td>...</td>\n",
       "      <td>0.510619</td>\n",
       "      <td>0.0</td>\n",
       "      <td>0.320460</td>\n",
       "      <td>0.542802</td>\n",
       "      <td>0.0</td>\n",
       "      <td>0.317962</td>\n",
       "      <td>0.573710</td>\n",
       "      <td>0.0</td>\n",
       "      <td>1626748318889.png</td>\n",
       "      <td>0</td>\n",
       "    </tr>\n",
       "    <tr>\n",
       "      <th>...</th>\n",
       "      <td>...</td>\n",
       "      <td>...</td>\n",
       "      <td>...</td>\n",
       "      <td>...</td>\n",
       "      <td>...</td>\n",
       "      <td>...</td>\n",
       "      <td>...</td>\n",
       "      <td>...</td>\n",
       "      <td>...</td>\n",
       "      <td>...</td>\n",
       "      <td>...</td>\n",
       "      <td>...</td>\n",
       "      <td>...</td>\n",
       "      <td>...</td>\n",
       "      <td>...</td>\n",
       "      <td>...</td>\n",
       "      <td>...</td>\n",
       "      <td>...</td>\n",
       "      <td>...</td>\n",
       "      <td>...</td>\n",
       "      <td>...</td>\n",
       "    </tr>\n",
       "    <tr>\n",
       "      <th>5044</th>\n",
       "      <td>0.474786</td>\n",
       "      <td>0.569185</td>\n",
       "      <td>0.999659</td>\n",
       "      <td>0.490803</td>\n",
       "      <td>0.615465</td>\n",
       "      <td>0.999523</td>\n",
       "      <td>0.505444</td>\n",
       "      <td>0.614216</td>\n",
       "      <td>0.999281</td>\n",
       "      <td>0.517959</td>\n",
       "      <td>...</td>\n",
       "      <td>0.000000</td>\n",
       "      <td>0.0</td>\n",
       "      <td>0.000000</td>\n",
       "      <td>0.000000</td>\n",
       "      <td>0.0</td>\n",
       "      <td>0.000000</td>\n",
       "      <td>0.000000</td>\n",
       "      <td>0.0</td>\n",
       "      <td>1626749480950.png</td>\n",
       "      <td>8</td>\n",
       "    </tr>\n",
       "    <tr>\n",
       "      <th>5045</th>\n",
       "      <td>0.474342</td>\n",
       "      <td>0.569941</td>\n",
       "      <td>0.999677</td>\n",
       "      <td>0.489896</td>\n",
       "      <td>0.615798</td>\n",
       "      <td>0.999550</td>\n",
       "      <td>0.504581</td>\n",
       "      <td>0.614885</td>\n",
       "      <td>0.999315</td>\n",
       "      <td>0.516979</td>\n",
       "      <td>...</td>\n",
       "      <td>0.000000</td>\n",
       "      <td>0.0</td>\n",
       "      <td>0.000000</td>\n",
       "      <td>0.000000</td>\n",
       "      <td>0.0</td>\n",
       "      <td>0.000000</td>\n",
       "      <td>0.000000</td>\n",
       "      <td>0.0</td>\n",
       "      <td>1626749481011.png</td>\n",
       "      <td>8</td>\n",
       "    </tr>\n",
       "    <tr>\n",
       "      <th>5046</th>\n",
       "      <td>0.473217</td>\n",
       "      <td>0.569113</td>\n",
       "      <td>0.999684</td>\n",
       "      <td>0.488396</td>\n",
       "      <td>0.615158</td>\n",
       "      <td>0.999562</td>\n",
       "      <td>0.502899</td>\n",
       "      <td>0.614612</td>\n",
       "      <td>0.999323</td>\n",
       "      <td>0.515308</td>\n",
       "      <td>...</td>\n",
       "      <td>0.000000</td>\n",
       "      <td>0.0</td>\n",
       "      <td>0.000000</td>\n",
       "      <td>0.000000</td>\n",
       "      <td>0.0</td>\n",
       "      <td>0.000000</td>\n",
       "      <td>0.000000</td>\n",
       "      <td>0.0</td>\n",
       "      <td>1626749481074.png</td>\n",
       "      <td>8</td>\n",
       "    </tr>\n",
       "    <tr>\n",
       "      <th>5047</th>\n",
       "      <td>0.472520</td>\n",
       "      <td>0.569116</td>\n",
       "      <td>0.999689</td>\n",
       "      <td>0.487926</td>\n",
       "      <td>0.615118</td>\n",
       "      <td>0.999566</td>\n",
       "      <td>0.502519</td>\n",
       "      <td>0.614611</td>\n",
       "      <td>0.999327</td>\n",
       "      <td>0.514899</td>\n",
       "      <td>...</td>\n",
       "      <td>0.000000</td>\n",
       "      <td>0.0</td>\n",
       "      <td>0.000000</td>\n",
       "      <td>0.000000</td>\n",
       "      <td>0.0</td>\n",
       "      <td>0.000000</td>\n",
       "      <td>0.000000</td>\n",
       "      <td>0.0</td>\n",
       "      <td>1626749481136.png</td>\n",
       "      <td>8</td>\n",
       "    </tr>\n",
       "    <tr>\n",
       "      <th>5048</th>\n",
       "      <td>0.472535</td>\n",
       "      <td>0.568476</td>\n",
       "      <td>0.999708</td>\n",
       "      <td>0.487996</td>\n",
       "      <td>0.614492</td>\n",
       "      <td>0.999596</td>\n",
       "      <td>0.502500</td>\n",
       "      <td>0.614206</td>\n",
       "      <td>0.999366</td>\n",
       "      <td>0.514908</td>\n",
       "      <td>...</td>\n",
       "      <td>0.000000</td>\n",
       "      <td>0.0</td>\n",
       "      <td>0.000000</td>\n",
       "      <td>0.000000</td>\n",
       "      <td>0.0</td>\n",
       "      <td>0.000000</td>\n",
       "      <td>0.000000</td>\n",
       "      <td>0.0</td>\n",
       "      <td>1626749481199.png</td>\n",
       "      <td>8</td>\n",
       "    </tr>\n",
       "  </tbody>\n",
       "</table>\n",
       "<p>5049 rows × 228 columns</p>\n",
       "</div>"
      ],
      "text/plain": [
       "           n_x       n_y       n_v     lei_x     lei_y     lei_v      le_x  \\\n",
       "0     0.569559  0.515890  0.999972  0.591710  0.552451  0.999902  0.602856   \n",
       "1     0.555219  0.507870  0.999974  0.577608  0.545067  0.999904  0.589006   \n",
       "2     0.552745  0.499431  0.999976  0.574333  0.537147  0.999909  0.586843   \n",
       "3     0.554274  0.496619  0.999977  0.575574  0.534501  0.999912  0.588492   \n",
       "4     0.552750  0.497576  0.999979  0.574484  0.535510  0.999915  0.587696   \n",
       "...        ...       ...       ...       ...       ...       ...       ...   \n",
       "5044  0.474786  0.569185  0.999659  0.490803  0.615465  0.999523  0.505444   \n",
       "5045  0.474342  0.569941  0.999677  0.489896  0.615798  0.999550  0.504581   \n",
       "5046  0.473217  0.569113  0.999684  0.488396  0.615158  0.999562  0.502899   \n",
       "5047  0.472520  0.569116  0.999689  0.487926  0.615118  0.999566  0.502519   \n",
       "5048  0.472535  0.568476  0.999708  0.487996  0.614492  0.999596  0.502500   \n",
       "\n",
       "          le_y      le_v     leo_x  ...   r_p_p_y  r_p_p_v   r_p_d_x  \\\n",
       "0     0.548133  0.999926  0.616494  ...  0.513827      0.0  0.323141   \n",
       "1     0.540769  0.999931  0.602398  ...  0.514952      0.0  0.322457   \n",
       "2     0.533208  0.999936  0.599682  ...  0.513422      0.0  0.321527   \n",
       "3     0.530744  0.999940  0.600943  ...  0.513384      0.0  0.321117   \n",
       "4     0.531233  0.999944  0.599823  ...  0.510619      0.0  0.320460   \n",
       "...        ...       ...       ...  ...       ...      ...       ...   \n",
       "5044  0.614216  0.999281  0.517959  ...  0.000000      0.0  0.000000   \n",
       "5045  0.614885  0.999315  0.516979  ...  0.000000      0.0  0.000000   \n",
       "5046  0.614612  0.999323  0.515308  ...  0.000000      0.0  0.000000   \n",
       "5047  0.614611  0.999327  0.514899  ...  0.000000      0.0  0.000000   \n",
       "5048  0.614206  0.999366  0.514908  ...  0.000000      0.0  0.000000   \n",
       "\n",
       "       r_p_d_y  r_p_d_v   r_p_t_x   r_p_t_y  r_p_t_v         image_name  label  \n",
       "0     0.547200      0.0  0.321647  0.579914      0.0  1626748318621.png      0  \n",
       "1     0.547779      0.0  0.320947  0.578922      0.0  1626748318702.png      0  \n",
       "2     0.546173      0.0  0.319171  0.577866      0.0  1626748318764.png      0  \n",
       "3     0.545780      0.0  0.318958  0.576631      0.0  1626748318827.png      0  \n",
       "4     0.542802      0.0  0.317962  0.573710      0.0  1626748318889.png      0  \n",
       "...        ...      ...       ...       ...      ...                ...    ...  \n",
       "5044  0.000000      0.0  0.000000  0.000000      0.0  1626749480950.png      8  \n",
       "5045  0.000000      0.0  0.000000  0.000000      0.0  1626749481011.png      8  \n",
       "5046  0.000000      0.0  0.000000  0.000000      0.0  1626749481074.png      8  \n",
       "5047  0.000000      0.0  0.000000  0.000000      0.0  1626749481136.png      8  \n",
       "5048  0.000000      0.0  0.000000  0.000000      0.0  1626749481199.png      8  \n",
       "\n",
       "[5049 rows x 228 columns]"
      ]
     },
     "execution_count": 6,
     "metadata": {},
     "output_type": "execute_result"
    }
   ],
   "source": [
    "df_train = pd.concat(dfs)\n",
    "df_train = df_train.reset_index(drop=True)\n",
    "df_train"
   ]
  },
  {
   "cell_type": "code",
   "execution_count": 7,
   "id": "c6db84df-3bd1-464e-bed7-d84280c80b63",
   "metadata": {},
   "outputs": [
    {
     "data": {
      "text/html": [
       "<div>\n",
       "<style scoped>\n",
       "    .dataframe tbody tr th:only-of-type {\n",
       "        vertical-align: middle;\n",
       "    }\n",
       "\n",
       "    .dataframe tbody tr th {\n",
       "        vertical-align: top;\n",
       "    }\n",
       "\n",
       "    .dataframe thead th {\n",
       "        text-align: right;\n",
       "    }\n",
       "</style>\n",
       "<table border=\"1\" class=\"dataframe\">\n",
       "  <thead>\n",
       "    <tr style=\"text-align: right;\">\n",
       "      <th></th>\n",
       "      <th>l_w_x</th>\n",
       "      <th>l_t_c_x</th>\n",
       "      <th>l_t_m_x</th>\n",
       "      <th>l_t_i_x</th>\n",
       "      <th>l_t_t_x</th>\n",
       "      <th>l_i_m_x</th>\n",
       "      <th>l_i_p_x</th>\n",
       "      <th>l_i_d_x</th>\n",
       "      <th>l_i_t_x</th>\n",
       "      <th>l_m_m_x</th>\n",
       "      <th>...</th>\n",
       "      <th>r_r_m_v</th>\n",
       "      <th>r_r_p_v</th>\n",
       "      <th>r_r_d_v</th>\n",
       "      <th>r_r_t_v</th>\n",
       "      <th>r_p_m_v</th>\n",
       "      <th>r_p_p_v</th>\n",
       "      <th>r_p_d_v</th>\n",
       "      <th>r_p_t_v</th>\n",
       "      <th>image_name</th>\n",
       "      <th>label</th>\n",
       "    </tr>\n",
       "  </thead>\n",
       "  <tbody>\n",
       "    <tr>\n",
       "      <th>0</th>\n",
       "      <td>0.0</td>\n",
       "      <td>0.0</td>\n",
       "      <td>0.0</td>\n",
       "      <td>0.0</td>\n",
       "      <td>0.0</td>\n",
       "      <td>0.0</td>\n",
       "      <td>0.0</td>\n",
       "      <td>0.0</td>\n",
       "      <td>0.0</td>\n",
       "      <td>0.0</td>\n",
       "      <td>...</td>\n",
       "      <td>0.0</td>\n",
       "      <td>0.0</td>\n",
       "      <td>0.0</td>\n",
       "      <td>0.0</td>\n",
       "      <td>0.0</td>\n",
       "      <td>0.0</td>\n",
       "      <td>0.0</td>\n",
       "      <td>0.0</td>\n",
       "      <td>1626748318621.png</td>\n",
       "      <td>0</td>\n",
       "    </tr>\n",
       "    <tr>\n",
       "      <th>1</th>\n",
       "      <td>0.0</td>\n",
       "      <td>0.0</td>\n",
       "      <td>0.0</td>\n",
       "      <td>0.0</td>\n",
       "      <td>0.0</td>\n",
       "      <td>0.0</td>\n",
       "      <td>0.0</td>\n",
       "      <td>0.0</td>\n",
       "      <td>0.0</td>\n",
       "      <td>0.0</td>\n",
       "      <td>...</td>\n",
       "      <td>0.0</td>\n",
       "      <td>0.0</td>\n",
       "      <td>0.0</td>\n",
       "      <td>0.0</td>\n",
       "      <td>0.0</td>\n",
       "      <td>0.0</td>\n",
       "      <td>0.0</td>\n",
       "      <td>0.0</td>\n",
       "      <td>1626748318702.png</td>\n",
       "      <td>0</td>\n",
       "    </tr>\n",
       "    <tr>\n",
       "      <th>2</th>\n",
       "      <td>0.0</td>\n",
       "      <td>0.0</td>\n",
       "      <td>0.0</td>\n",
       "      <td>0.0</td>\n",
       "      <td>0.0</td>\n",
       "      <td>0.0</td>\n",
       "      <td>0.0</td>\n",
       "      <td>0.0</td>\n",
       "      <td>0.0</td>\n",
       "      <td>0.0</td>\n",
       "      <td>...</td>\n",
       "      <td>0.0</td>\n",
       "      <td>0.0</td>\n",
       "      <td>0.0</td>\n",
       "      <td>0.0</td>\n",
       "      <td>0.0</td>\n",
       "      <td>0.0</td>\n",
       "      <td>0.0</td>\n",
       "      <td>0.0</td>\n",
       "      <td>1626748318764.png</td>\n",
       "      <td>0</td>\n",
       "    </tr>\n",
       "    <tr>\n",
       "      <th>3</th>\n",
       "      <td>0.0</td>\n",
       "      <td>0.0</td>\n",
       "      <td>0.0</td>\n",
       "      <td>0.0</td>\n",
       "      <td>0.0</td>\n",
       "      <td>0.0</td>\n",
       "      <td>0.0</td>\n",
       "      <td>0.0</td>\n",
       "      <td>0.0</td>\n",
       "      <td>0.0</td>\n",
       "      <td>...</td>\n",
       "      <td>0.0</td>\n",
       "      <td>0.0</td>\n",
       "      <td>0.0</td>\n",
       "      <td>0.0</td>\n",
       "      <td>0.0</td>\n",
       "      <td>0.0</td>\n",
       "      <td>0.0</td>\n",
       "      <td>0.0</td>\n",
       "      <td>1626748318827.png</td>\n",
       "      <td>0</td>\n",
       "    </tr>\n",
       "    <tr>\n",
       "      <th>4</th>\n",
       "      <td>0.0</td>\n",
       "      <td>0.0</td>\n",
       "      <td>0.0</td>\n",
       "      <td>0.0</td>\n",
       "      <td>0.0</td>\n",
       "      <td>0.0</td>\n",
       "      <td>0.0</td>\n",
       "      <td>0.0</td>\n",
       "      <td>0.0</td>\n",
       "      <td>0.0</td>\n",
       "      <td>...</td>\n",
       "      <td>0.0</td>\n",
       "      <td>0.0</td>\n",
       "      <td>0.0</td>\n",
       "      <td>0.0</td>\n",
       "      <td>0.0</td>\n",
       "      <td>0.0</td>\n",
       "      <td>0.0</td>\n",
       "      <td>0.0</td>\n",
       "      <td>1626748318889.png</td>\n",
       "      <td>0</td>\n",
       "    </tr>\n",
       "    <tr>\n",
       "      <th>...</th>\n",
       "      <td>...</td>\n",
       "      <td>...</td>\n",
       "      <td>...</td>\n",
       "      <td>...</td>\n",
       "      <td>...</td>\n",
       "      <td>...</td>\n",
       "      <td>...</td>\n",
       "      <td>...</td>\n",
       "      <td>...</td>\n",
       "      <td>...</td>\n",
       "      <td>...</td>\n",
       "      <td>...</td>\n",
       "      <td>...</td>\n",
       "      <td>...</td>\n",
       "      <td>...</td>\n",
       "      <td>...</td>\n",
       "      <td>...</td>\n",
       "      <td>...</td>\n",
       "      <td>...</td>\n",
       "      <td>...</td>\n",
       "      <td>...</td>\n",
       "    </tr>\n",
       "    <tr>\n",
       "      <th>5044</th>\n",
       "      <td>0.0</td>\n",
       "      <td>0.0</td>\n",
       "      <td>0.0</td>\n",
       "      <td>0.0</td>\n",
       "      <td>0.0</td>\n",
       "      <td>0.0</td>\n",
       "      <td>0.0</td>\n",
       "      <td>0.0</td>\n",
       "      <td>0.0</td>\n",
       "      <td>0.0</td>\n",
       "      <td>...</td>\n",
       "      <td>0.0</td>\n",
       "      <td>0.0</td>\n",
       "      <td>0.0</td>\n",
       "      <td>0.0</td>\n",
       "      <td>0.0</td>\n",
       "      <td>0.0</td>\n",
       "      <td>0.0</td>\n",
       "      <td>0.0</td>\n",
       "      <td>1626749480950.png</td>\n",
       "      <td>8</td>\n",
       "    </tr>\n",
       "    <tr>\n",
       "      <th>5045</th>\n",
       "      <td>0.0</td>\n",
       "      <td>0.0</td>\n",
       "      <td>0.0</td>\n",
       "      <td>0.0</td>\n",
       "      <td>0.0</td>\n",
       "      <td>0.0</td>\n",
       "      <td>0.0</td>\n",
       "      <td>0.0</td>\n",
       "      <td>0.0</td>\n",
       "      <td>0.0</td>\n",
       "      <td>...</td>\n",
       "      <td>0.0</td>\n",
       "      <td>0.0</td>\n",
       "      <td>0.0</td>\n",
       "      <td>0.0</td>\n",
       "      <td>0.0</td>\n",
       "      <td>0.0</td>\n",
       "      <td>0.0</td>\n",
       "      <td>0.0</td>\n",
       "      <td>1626749481011.png</td>\n",
       "      <td>8</td>\n",
       "    </tr>\n",
       "    <tr>\n",
       "      <th>5046</th>\n",
       "      <td>0.0</td>\n",
       "      <td>0.0</td>\n",
       "      <td>0.0</td>\n",
       "      <td>0.0</td>\n",
       "      <td>0.0</td>\n",
       "      <td>0.0</td>\n",
       "      <td>0.0</td>\n",
       "      <td>0.0</td>\n",
       "      <td>0.0</td>\n",
       "      <td>0.0</td>\n",
       "      <td>...</td>\n",
       "      <td>0.0</td>\n",
       "      <td>0.0</td>\n",
       "      <td>0.0</td>\n",
       "      <td>0.0</td>\n",
       "      <td>0.0</td>\n",
       "      <td>0.0</td>\n",
       "      <td>0.0</td>\n",
       "      <td>0.0</td>\n",
       "      <td>1626749481074.png</td>\n",
       "      <td>8</td>\n",
       "    </tr>\n",
       "    <tr>\n",
       "      <th>5047</th>\n",
       "      <td>0.0</td>\n",
       "      <td>0.0</td>\n",
       "      <td>0.0</td>\n",
       "      <td>0.0</td>\n",
       "      <td>0.0</td>\n",
       "      <td>0.0</td>\n",
       "      <td>0.0</td>\n",
       "      <td>0.0</td>\n",
       "      <td>0.0</td>\n",
       "      <td>0.0</td>\n",
       "      <td>...</td>\n",
       "      <td>0.0</td>\n",
       "      <td>0.0</td>\n",
       "      <td>0.0</td>\n",
       "      <td>0.0</td>\n",
       "      <td>0.0</td>\n",
       "      <td>0.0</td>\n",
       "      <td>0.0</td>\n",
       "      <td>0.0</td>\n",
       "      <td>1626749481136.png</td>\n",
       "      <td>8</td>\n",
       "    </tr>\n",
       "    <tr>\n",
       "      <th>5048</th>\n",
       "      <td>0.0</td>\n",
       "      <td>0.0</td>\n",
       "      <td>0.0</td>\n",
       "      <td>0.0</td>\n",
       "      <td>0.0</td>\n",
       "      <td>0.0</td>\n",
       "      <td>0.0</td>\n",
       "      <td>0.0</td>\n",
       "      <td>0.0</td>\n",
       "      <td>0.0</td>\n",
       "      <td>...</td>\n",
       "      <td>0.0</td>\n",
       "      <td>0.0</td>\n",
       "      <td>0.0</td>\n",
       "      <td>0.0</td>\n",
       "      <td>0.0</td>\n",
       "      <td>0.0</td>\n",
       "      <td>0.0</td>\n",
       "      <td>0.0</td>\n",
       "      <td>1626749481199.png</td>\n",
       "      <td>8</td>\n",
       "    </tr>\n",
       "  </tbody>\n",
       "</table>\n",
       "<p>5049 rows × 128 columns</p>\n",
       "</div>"
      ],
      "text/plain": [
       "      l_w_x  l_t_c_x  l_t_m_x  l_t_i_x  l_t_t_x  l_i_m_x  l_i_p_x  l_i_d_x  \\\n",
       "0       0.0      0.0      0.0      0.0      0.0      0.0      0.0      0.0   \n",
       "1       0.0      0.0      0.0      0.0      0.0      0.0      0.0      0.0   \n",
       "2       0.0      0.0      0.0      0.0      0.0      0.0      0.0      0.0   \n",
       "3       0.0      0.0      0.0      0.0      0.0      0.0      0.0      0.0   \n",
       "4       0.0      0.0      0.0      0.0      0.0      0.0      0.0      0.0   \n",
       "...     ...      ...      ...      ...      ...      ...      ...      ...   \n",
       "5044    0.0      0.0      0.0      0.0      0.0      0.0      0.0      0.0   \n",
       "5045    0.0      0.0      0.0      0.0      0.0      0.0      0.0      0.0   \n",
       "5046    0.0      0.0      0.0      0.0      0.0      0.0      0.0      0.0   \n",
       "5047    0.0      0.0      0.0      0.0      0.0      0.0      0.0      0.0   \n",
       "5048    0.0      0.0      0.0      0.0      0.0      0.0      0.0      0.0   \n",
       "\n",
       "      l_i_t_x  l_m_m_x  ...  r_r_m_v  r_r_p_v  r_r_d_v  r_r_t_v  r_p_m_v  \\\n",
       "0         0.0      0.0  ...      0.0      0.0      0.0      0.0      0.0   \n",
       "1         0.0      0.0  ...      0.0      0.0      0.0      0.0      0.0   \n",
       "2         0.0      0.0  ...      0.0      0.0      0.0      0.0      0.0   \n",
       "3         0.0      0.0  ...      0.0      0.0      0.0      0.0      0.0   \n",
       "4         0.0      0.0  ...      0.0      0.0      0.0      0.0      0.0   \n",
       "...       ...      ...  ...      ...      ...      ...      ...      ...   \n",
       "5044      0.0      0.0  ...      0.0      0.0      0.0      0.0      0.0   \n",
       "5045      0.0      0.0  ...      0.0      0.0      0.0      0.0      0.0   \n",
       "5046      0.0      0.0  ...      0.0      0.0      0.0      0.0      0.0   \n",
       "5047      0.0      0.0  ...      0.0      0.0      0.0      0.0      0.0   \n",
       "5048      0.0      0.0  ...      0.0      0.0      0.0      0.0      0.0   \n",
       "\n",
       "      r_p_p_v  r_p_d_v  r_p_t_v         image_name  label  \n",
       "0         0.0      0.0      0.0  1626748318621.png      0  \n",
       "1         0.0      0.0      0.0  1626748318702.png      0  \n",
       "2         0.0      0.0      0.0  1626748318764.png      0  \n",
       "3         0.0      0.0      0.0  1626748318827.png      0  \n",
       "4         0.0      0.0      0.0  1626748318889.png      0  \n",
       "...       ...      ...      ...                ...    ...  \n",
       "5044      0.0      0.0      0.0  1626749480950.png      8  \n",
       "5045      0.0      0.0      0.0  1626749481011.png      8  \n",
       "5046      0.0      0.0      0.0  1626749481074.png      8  \n",
       "5047      0.0      0.0      0.0  1626749481136.png      8  \n",
       "5048      0.0      0.0      0.0  1626749481199.png      8  \n",
       "\n",
       "[5049 rows x 128 columns]"
      ]
     },
     "metadata": {},
     "output_type": "display_data"
    }
   ],
   "source": [
    "if model_target == \"actions\":\n",
    "    df_train = normalize_data(df_train)\n",
    "    display(df_train)\n",
    "if model_target == \"gestures\":\n",
    "    df_train = normalize_hand_data(df_train)\n",
    "    display(df_train)"
   ]
  },
  {
   "cell_type": "code",
   "execution_count": 8,
   "id": "2b443068-2f5f-4b9a-8884-fe4f66bf5f72",
   "metadata": {},
   "outputs": [],
   "source": [
    "#df_train_x = df_train[target_columns_x]\n",
    "#df_train_y = df_train[\"label\"]\n",
    "#df_train_image = df_train[\"image_name\"]"
   ]
  },
  {
   "cell_type": "code",
   "execution_count": 9,
   "id": "b1abdea1-23af-4873-ac13-faf55ef50401",
   "metadata": {},
   "outputs": [
    {
     "data": {
      "text/plain": [
       "'class Graph:\\n        \\n    def __init__(self, \\n                 k_hop, mode):\\n        \\n        \"\"\"\\n        inputs:\\n            mode: \"hand\", \"pose\", \"pose_hand\"\\n        \"\"\"\\n        \\n        self.k_hop = k_hop\\n        self.mode = mode\\n        \\n        self.create_vertex()\\n        self.create_edge()\\n        self.create_adjacent_matrix()\\n        self.create_D()\\n        self.create_k_hop_matrix()\\n        \\n    def create_vertex(self):\\n        self.pose_num_vertices = 33\\n        self.hand_num_vertices = 21\\n        if self.mode == \"hand\":\\n            self.num_vertices = self.hand_num_vertices * 2\\n        elif self.mode == \"pose\":\\n            self.num_vertices = self.pose_num_vertices\\n        elif self.mode == \"pose_hand\":\\n            self.num_vertices = self.pose_num_vertices +                                 self.hand_num_vertices * 2\\n            \\n            \\n        \\n    def create_edge(self):\\n        self_edges = [(v, v) for v in range(self.num_vertices)]\\n        neighbor_edges = [(0, 1), (0, 4), (1, 2), (2, 3),\\n                         (3, 7), (4, 5), (5, 6), (6, 8), \\n                         (9, 10), (11, 12), (11, 13), (11, 23), (12, 14),\\n                         (12, 24), (13, 15), (14, 16), (15, 17), (15, 19),\\n                         (15, 21), (16, 18), (16, 20), (16, 22), (17, 19),\\n                         (18, 20), (23, 24), (23, 25), (24, 26), (25, 27),\\n                         (26, 28), (27, 29), (27, 31), (28, 30), (28, 32), \\n                         (29, 31), (30, 32), \\n                        ]\\n        \\n        hand_edges = [\\n            (0, 1), (0, 5), (0, 9), (0, 13), (0, 17),\\n            (1, 2), (2, 3), (3, 4), (5, 6), (5, 9), \\n            (6, 7), (7, 8), (9, 10), (9, 13), (10, 11),\\n            (11, 12), (13, 14), (13, 17), (14, 15), (15, 16),\\n            (17, 18), (18, 19), (19, 20)\\n        ]\\n        \\n        if self.mode == \"hand\":\\n            left_hand_edges = hand_edges.copy()\\n            right_hand_edges = [(i+self.hand_num_vertices, j+self.hand_num_vertices)                                  for i, j in hand_edges]\\n            self.edges = self_edges + left_hand_edges + right_hand_edges\\n        elif self.mode == \"pose\":\\n            self.edges = self_edges + neighbor_edges\\n        elif self.mode == \"pose_hand\":\\n            left_hand_edges = [(i+self.pose_num_vertices, j+self.pose_num_vertices)                                  for i, j in hand_edges]\\n            right_hand_edges = [(i+self.hand_num_vertices, j+self.hand_num_vertices)                                  for i, j in left_hand_edges]\\n            self.edges = self_edges + neighbor_edges + left_hand_edges + right_hand_edges\\n        \\n    def create_adjacent_matrix(self):\\n        self.A = np.zeros((self.num_vertices, self.num_vertices))\\n        for i, j in self.edges:\\n            self.A[i, j] = 1\\n            self.A[j, i] = 1\\n        \\n    def create_D(self):\\n        sum_row = self.A.sum(axis=1)\\n        self.D = np.diag(sum_row)\\n        \\n    def normalize_A(self, A):\\n        return np.linalg.inv(self.D) @ A\\n    \\n    def create_k_hop_matrix(self):\\n        \\n        As = []\\n        \\n        for hop in range(1, self.k_hop + 1):\\n            As.append(self.normalize_A(np.power(self.A, hop)))\\n        \\n        self.A_k = np.stack(As, axis=0)\\n'"
      ]
     },
     "execution_count": 9,
     "metadata": {},
     "output_type": "execute_result"
    }
   ],
   "source": [
    "'''class Graph:\n",
    "        \n",
    "    def __init__(self, \n",
    "                 k_hop, mode):\n",
    "        \n",
    "        \"\"\"\n",
    "        inputs:\n",
    "            mode: \"hand\", \"pose\", \"pose_hand\"\n",
    "        \"\"\"\n",
    "        \n",
    "        self.k_hop = k_hop\n",
    "        self.mode = mode\n",
    "        \n",
    "        self.create_vertex()\n",
    "        self.create_edge()\n",
    "        self.create_adjacent_matrix()\n",
    "        self.create_D()\n",
    "        self.create_k_hop_matrix()\n",
    "        \n",
    "    def create_vertex(self):\n",
    "        self.pose_num_vertices = 33\n",
    "        self.hand_num_vertices = 21\n",
    "        if self.mode == \"hand\":\n",
    "            self.num_vertices = self.hand_num_vertices * 2\n",
    "        elif self.mode == \"pose\":\n",
    "            self.num_vertices = self.pose_num_vertices\n",
    "        elif self.mode == \"pose_hand\":\n",
    "            self.num_vertices = self.pose_num_vertices + \\\n",
    "                                self.hand_num_vertices * 2\n",
    "            \n",
    "            \n",
    "        \n",
    "    def create_edge(self):\n",
    "        self_edges = [(v, v) for v in range(self.num_vertices)]\n",
    "        neighbor_edges = [(0, 1), (0, 4), (1, 2), (2, 3),\n",
    "                         (3, 7), (4, 5), (5, 6), (6, 8), \n",
    "                         (9, 10), (11, 12), (11, 13), (11, 23), (12, 14),\n",
    "                         (12, 24), (13, 15), (14, 16), (15, 17), (15, 19),\n",
    "                         (15, 21), (16, 18), (16, 20), (16, 22), (17, 19),\n",
    "                         (18, 20), (23, 24), (23, 25), (24, 26), (25, 27),\n",
    "                         (26, 28), (27, 29), (27, 31), (28, 30), (28, 32), \n",
    "                         (29, 31), (30, 32), \n",
    "                        ]\n",
    "        \n",
    "        hand_edges = [\n",
    "            (0, 1), (0, 5), (0, 9), (0, 13), (0, 17),\n",
    "            (1, 2), (2, 3), (3, 4), (5, 6), (5, 9), \n",
    "            (6, 7), (7, 8), (9, 10), (9, 13), (10, 11),\n",
    "            (11, 12), (13, 14), (13, 17), (14, 15), (15, 16),\n",
    "            (17, 18), (18, 19), (19, 20)\n",
    "        ]\n",
    "        \n",
    "        if self.mode == \"hand\":\n",
    "            left_hand_edges = hand_edges.copy()\n",
    "            right_hand_edges = [(i+self.hand_num_vertices, j+self.hand_num_vertices) \\\n",
    "                                 for i, j in hand_edges]\n",
    "            self.edges = self_edges + left_hand_edges + right_hand_edges\n",
    "        elif self.mode == \"pose\":\n",
    "            self.edges = self_edges + neighbor_edges\n",
    "        elif self.mode == \"pose_hand\":\n",
    "            left_hand_edges = [(i+self.pose_num_vertices, j+self.pose_num_vertices) \\\n",
    "                                 for i, j in hand_edges]\n",
    "            right_hand_edges = [(i+self.hand_num_vertices, j+self.hand_num_vertices) \\\n",
    "                                 for i, j in left_hand_edges]\n",
    "            self.edges = self_edges + neighbor_edges + left_hand_edges + right_hand_edges\n",
    "        \n",
    "    def create_adjacent_matrix(self):\n",
    "        self.A = np.zeros((self.num_vertices, self.num_vertices))\n",
    "        for i, j in self.edges:\n",
    "            self.A[i, j] = 1\n",
    "            self.A[j, i] = 1\n",
    "        \n",
    "    def create_D(self):\n",
    "        sum_row = self.A.sum(axis=1)\n",
    "        self.D = np.diag(sum_row)\n",
    "        \n",
    "    def normalize_A(self, A):\n",
    "        return np.linalg.inv(self.D) @ A\n",
    "    \n",
    "    def create_k_hop_matrix(self):\n",
    "        \n",
    "        As = []\n",
    "        \n",
    "        for hop in range(1, self.k_hop + 1):\n",
    "            As.append(self.normalize_A(np.power(self.A, hop)))\n",
    "        \n",
    "        self.A_k = np.stack(As, axis=0)\n",
    "'''        "
   ]
  },
  {
   "cell_type": "code",
   "execution_count": 10,
   "id": "15178e83-0c5e-42c9-a40d-dcdd84b77e65",
   "metadata": {},
   "outputs": [
    {
     "data": {
      "text/plain": [
       "\"import torch\\nimport torch.nn as nn\\nimport torch.nn.functional as F\\n\\nclass GCN(nn.Module):\\n    def __init__(self, in_channels, out_channels, k_hop):\\n        super().__init__()\\n        \\n        self.conv = nn.Conv2d(in_channels,\\n                              out_channels * k_hop,\\n                              kernel_size=(1, 1),\\n                              padding=(0, 0),\\n                              stride=(1, 1))\\n        \\n        if in_channels == out_channels:\\n            self.residual = lambda x: x\\n\\n        else:\\n            self.residual = nn.Sequential(\\n                nn.Conv2d(\\n                    in_channels,\\n                    out_channels,\\n                    kernel_size=1,\\n                    stride=(1, 1)),\\n                nn.BatchNorm2d(out_channels),\\n            )\\n        \\n    def forward(self, x, A_k):\\n        \\n        res = self.residual(x)\\n        \\n        B, F, J, T = x.size()\\n        \\n        K = A_k.size()[0]\\n        \\n        x = self.conv(x)\\n        B, KC, J, T = x.size()\\n        \\n        x = x.view(B, K, KC // K, J, T)\\n        output = torch.einsum('bkcjt,kji->bcit', (x, A_k)) + res\\n        \\n        return output\\n    \\nclass HACModel(nn.Module):\\n    def __init__(self, in_channels, num_class, k_hop, mode):\\n        super().__init__()\\n        \\n        self.graph = Graph(k_hop=k_hop, mode=mode)\\n        A_k = torch.tensor(self.graph.A_k,\\n                           dtype=torch.float32,\\n                           requires_grad=False)\\n        self.register_buffer('A_k', A_k)\\n        \\n        self.data_bn = nn.BatchNorm2d(in_channels)\\n        self.gcns = nn.ModuleList((\\n            GCN(in_channels, 16, k_hop),\\n            GCN(16, 32, k_hop),\\n            GCN(32, 64, k_hop),           \\n        ))\\n        \\n        self.edge_importances = nn.ParameterList([\\n            nn.Parameter(torch.ones(self.A_k.size()))\\n            for i in self.gcns\\n        ])\\n        \\n        self.fcn = nn.Conv2d(64, num_class, kernel_size=1)\\n        self.drop_layer = nn.Dropout(p=0.5)\\n        \\n    def forward(self, x):\\n        x = self.data_bn(x)\\n        for gcn, importance in zip(self.gcns, self.edge_importances):\\n            x = gcn(x, self.A_k * importance)\\n        x = F.avg_pool2d(x, x.size()[2:])\\n        x = self.drop_layer(x)\\n        output = self.fcn(x).squeeze()\\n        \\n        return output\\n\""
      ]
     },
     "execution_count": 10,
     "metadata": {},
     "output_type": "execute_result"
    }
   ],
   "source": [
    "'''import torch\n",
    "import torch.nn as nn\n",
    "import torch.nn.functional as F\n",
    "\n",
    "class GCN(nn.Module):\n",
    "    def __init__(self, in_channels, out_channels, k_hop):\n",
    "        super().__init__()\n",
    "        \n",
    "        self.conv = nn.Conv2d(in_channels,\n",
    "                              out_channels * k_hop,\n",
    "                              kernel_size=(1, 1),\n",
    "                              padding=(0, 0),\n",
    "                              stride=(1, 1))\n",
    "        \n",
    "        if in_channels == out_channels:\n",
    "            self.residual = lambda x: x\n",
    "\n",
    "        else:\n",
    "            self.residual = nn.Sequential(\n",
    "                nn.Conv2d(\n",
    "                    in_channels,\n",
    "                    out_channels,\n",
    "                    kernel_size=1,\n",
    "                    stride=(1, 1)),\n",
    "                nn.BatchNorm2d(out_channels),\n",
    "            )\n",
    "        \n",
    "    def forward(self, x, A_k):\n",
    "        \n",
    "        res = self.residual(x)\n",
    "        \n",
    "        B, F, J, T = x.size()\n",
    "        \n",
    "        K = A_k.size()[0]\n",
    "        \n",
    "        x = self.conv(x)\n",
    "        B, KC, J, T = x.size()\n",
    "        \n",
    "        x = x.view(B, K, KC // K, J, T)\n",
    "        output = torch.einsum('bkcjt,kji->bcit', (x, A_k)) + res\n",
    "        \n",
    "        return output\n",
    "    \n",
    "class HACModel(nn.Module):\n",
    "    def __init__(self, in_channels, num_class, k_hop, mode):\n",
    "        super().__init__()\n",
    "        \n",
    "        self.graph = Graph(k_hop=k_hop, mode=mode)\n",
    "        A_k = torch.tensor(self.graph.A_k,\n",
    "                           dtype=torch.float32,\n",
    "                           requires_grad=False)\n",
    "        self.register_buffer('A_k', A_k)\n",
    "        \n",
    "        self.data_bn = nn.BatchNorm2d(in_channels)\n",
    "        self.gcns = nn.ModuleList((\n",
    "            GCN(in_channels, 16, k_hop),\n",
    "            GCN(16, 32, k_hop),\n",
    "            GCN(32, 64, k_hop),           \n",
    "        ))\n",
    "        \n",
    "        self.edge_importances = nn.ParameterList([\n",
    "            nn.Parameter(torch.ones(self.A_k.size()))\n",
    "            for i in self.gcns\n",
    "        ])\n",
    "        \n",
    "        self.fcn = nn.Conv2d(64, num_class, kernel_size=1)\n",
    "        self.drop_layer = nn.Dropout(p=0.5)\n",
    "        \n",
    "    def forward(self, x):\n",
    "        x = self.data_bn(x)\n",
    "        for gcn, importance in zip(self.gcns, self.edge_importances):\n",
    "            x = gcn(x, self.A_k * importance)\n",
    "        x = F.avg_pool2d(x, x.size()[2:])\n",
    "        x = self.drop_layer(x)\n",
    "        output = self.fcn(x).squeeze()\n",
    "        \n",
    "        return output\n",
    "'''"
   ]
  },
  {
   "cell_type": "code",
   "execution_count": 11,
   "id": "105399b7-edad-4d1f-b031-34290f1337fa",
   "metadata": {},
   "outputs": [
    {
     "name": "stdout",
     "output_type": "stream",
     "text": [
      "1.507521152496338\n",
      "torch.Size([32, 9])\n",
      "tensor([[8],\n",
      "        [6],\n",
      "        [8],\n",
      "        [8],\n",
      "        [8],\n",
      "        [7],\n",
      "        [2],\n",
      "        [1],\n",
      "        [0],\n",
      "        [1],\n",
      "        [8],\n",
      "        [0],\n",
      "        [5],\n",
      "        [1],\n",
      "        [1],\n",
      "        [5],\n",
      "        [0],\n",
      "        [8],\n",
      "        [8],\n",
      "        [1],\n",
      "        [7],\n",
      "        [1],\n",
      "        [0],\n",
      "        [5],\n",
      "        [8],\n",
      "        [0],\n",
      "        [8],\n",
      "        [6],\n",
      "        [5],\n",
      "        [1],\n",
      "        [5],\n",
      "        [8]], device='cuda:0')\n"
     ]
    }
   ],
   "source": [
    "device = 'cuda'\n",
    "in_channels = 3\n",
    "num_class = len(actions)\n",
    "model = HACModel(in_channels, num_class, k_hop=3, mode=mode).to(device)\n",
    "if mode == \"hand\":\n",
    "    j = 21 * 2 \n",
    "elif mode == \"pose\":\n",
    "    j = 33\n",
    "elif mode == \"pose_hand\":\n",
    "    j = 33 + 21 * 2 \n",
    "x = torch.rand((32, in_channels, j, 1)).to(device)\n",
    "s = time.time()\n",
    "output = model(x)\n",
    "print(time.time() - s)\n",
    "print(output.size())\n",
    "print(torch.argmax(output,dim=1,keepdim=True))"
   ]
  },
  {
   "cell_type": "code",
   "execution_count": 12,
   "id": "e5d5f182-20a4-427e-b17e-1d0036244bdf",
   "metadata": {},
   "outputs": [
    {
     "data": {
      "text/plain": [
       "'\\nf1 = lambda key: key + \"_x\"\\nf2 = lambda key: key + \"_y\"\\n\\npose_cols = [f(key) for key in W_LIST_POSE for f in (f1, f2)]\\npose_cols\\n'"
      ]
     },
     "execution_count": 12,
     "metadata": {},
     "output_type": "execute_result"
    }
   ],
   "source": [
    "'''\n",
    "f1 = lambda key: key + \"_x\"\n",
    "f2 = lambda key: key + \"_y\"\n",
    "\n",
    "pose_cols = [f(key) for key in W_LIST_POSE for f in (f1, f2)]\n",
    "pose_cols\n",
    "'''"
   ]
  },
  {
   "cell_type": "code",
   "execution_count": 13,
   "id": "1adbb03a-8364-4b8e-aa9d-34b63f50e7b5",
   "metadata": {},
   "outputs": [],
   "source": [
    "import torch.utils.data as data"
   ]
  },
  {
   "cell_type": "code",
   "execution_count": 14,
   "id": "9a62a77d-88c5-45d3-81c6-ef5abf69dcdc",
   "metadata": {},
   "outputs": [],
   "source": [
    "class Dataset(torch.utils.data.Dataset):\n",
    "    \n",
    "    def __init__(self, X, y):\n",
    "        self.X = X\n",
    "        self.y = y\n",
    "        \n",
    "        assert self.X.shape[0] == self.y.shape[0]\n",
    "\n",
    "    def __len__(self):\n",
    "        \n",
    "        return self.y.shape[0]\n",
    "    \n",
    "    def __getitem__(self, idx):\n",
    "\n",
    "        return self.X[idx,:], self.y[idx]"
   ]
  },
  {
   "cell_type": "code",
   "execution_count": 15,
   "id": "f3c9253c-51e8-4b9b-a153-21af4c944c8b",
   "metadata": {},
   "outputs": [],
   "source": [
    "def train(model, train_loader, val_loader, optimizer, \n",
    "          loss_fn, device, num_epochs, model_path):\n",
    "\n",
    "    model.train()\n",
    "    \n",
    "    accs = []\n",
    "    losses = []\n",
    "    val_accs = []\n",
    "    val_losses = []\n",
    "    best_val_acc = 0.0\n",
    "\n",
    "    for epoch in tqdm(range(0, num_epochs)):\n",
    "        epoch_loss = 0.0\n",
    "        epoch_acc = 0.0\n",
    "        count = 0\n",
    "        for x, y in train_loader:\n",
    "            x = x.view(-1, model.in_channels, x.shape[1]//model.in_channels, 1).to(device).float()\n",
    "            y = y.to(device)\n",
    "\n",
    "            optimizer.zero_grad()\n",
    "            pred = model(x).reshape((y.shape[0], -1))\n",
    "            loss = loss_fn(pred, y)      \n",
    "            \n",
    "            epoch_loss += loss.item()\n",
    "            loss.backward()\n",
    "\n",
    "            epoch_acc += (pred.argmax(axis=1, keepdim=True).squeeze() == y).sum().item()\n",
    "            optimizer.step()\n",
    "            count += x.size()[0]\n",
    "\n",
    "        epoch_loss /= len(train_loader)\n",
    "        epoch_acc /= count\n",
    "        losses.append(epoch_loss)\n",
    "        accs.append(epoch_acc)\n",
    "        print(\"epoch loss:\", epoch_loss)\n",
    "        print(\"acc:\", epoch_acc)\n",
    "        \n",
    "        if val_loader:\n",
    "            val_loss, val_acc = evaluate(model, val_loader, loss_fn, device)\n",
    "            val_losses.append(val_loss)\n",
    "            val_accs.append(val_acc)\n",
    "            \n",
    "        if val_loader and val_loss > best_val_acc:\n",
    "            model_name = \"best_model.pth\"\n",
    "            Path(model_path).mkdir(parents=True, exist_ok=True)\n",
    "            torch.save(model.state_dict(), \n",
    "                       os.path.join(model_path, model_name))\n",
    "            \n",
    "    return losses, accs, val_losses, val_accs\n",
    "\n",
    "def evaluate(model, val_loader, loss_fn, device):\n",
    "\n",
    "    model.eval()\n",
    "    \n",
    "    val_loss = 0.0\n",
    "    val_acc = 0.0\n",
    "    count = 0\n",
    "    for x, y in val_loader:\n",
    "        x = x.view(-1, model.in_channels, x.shape[1]//model.in_channels, 1).to(device).float()\n",
    "        y = y.to(device)\n",
    "\n",
    "        pred = model(x).reshape((y.shape[0], -1))\n",
    "        loss = loss_fn(pred, y)\n",
    "        val_loss += loss.item()\n",
    "\n",
    "        val_acc += (pred.argmax(axis=1, keepdim=True).squeeze() == y).sum().item()\n",
    "        count += x.size()[0]\n",
    "        \n",
    "    val_loss /= len(val_loader)\n",
    "    val_acc /= count\n",
    "    print(\"val loss:\", val_loss)\n",
    "    print(\"val acc:\", val_acc)\n",
    "        \n",
    "    return val_loss, val_acc"
   ]
  },
  {
   "cell_type": "code",
   "execution_count": 16,
   "id": "ef4e7c0f-7838-40f0-ac8e-8929e4a3d7fc",
   "metadata": {},
   "outputs": [
    {
     "name": "stderr",
     "output_type": "stream",
     "text": [
      "  0%|                                                                                          | 0/100 [00:00<?, ?it/s]"
     ]
    },
    {
     "name": "stdout",
     "output_type": "stream",
     "text": [
      "epoch loss: 1.298518159247861\n",
      "acc: 0.49863827680118844\n"
     ]
    },
    {
     "name": "stderr",
     "output_type": "stream",
     "text": [
      "  1%|▊                                                                                 | 1/100 [00:03<06:11,  3.76s/it]"
     ]
    },
    {
     "name": "stdout",
     "output_type": "stream",
     "text": [
      "val loss: 0.637282896192935\n",
      "val acc: 0.7742574257425743\n",
      "epoch loss: 0.45004380240224967\n",
      "acc: 0.844268383263184\n"
     ]
    },
    {
     "name": "stderr",
     "output_type": "stream",
     "text": [
      "  2%|█▋                                                                                | 2/100 [00:07<06:03,  3.71s/it]"
     ]
    },
    {
     "name": "stdout",
     "output_type": "stream",
     "text": [
      "val loss: 0.3587576651505257\n",
      "val acc: 0.8871287128712871\n",
      "epoch loss: 0.23203623848690624\n",
      "acc: 0.9316662540232731\n"
     ]
    },
    {
     "name": "stderr",
     "output_type": "stream",
     "text": [
      "  3%|██▍                                                                               | 3/100 [00:11<05:58,  3.69s/it]"
     ]
    },
    {
     "name": "stdout",
     "output_type": "stream",
     "text": [
      "val loss: 0.30503816510010767\n",
      "val acc: 0.9366336633663367\n",
      "epoch loss: 0.13543315754493349\n",
      "acc: 0.9700420896261451\n"
     ]
    },
    {
     "name": "stderr",
     "output_type": "stream",
     "text": [
      "  4%|███▎                                                                              | 4/100 [00:14<05:49,  3.64s/it]"
     ]
    },
    {
     "name": "stdout",
     "output_type": "stream",
     "text": [
      "val loss: 0.20309117321697556\n",
      "val acc: 0.9594059405940594\n",
      "epoch loss: 0.08130949663740611\n",
      "acc: 0.9878682842287695\n"
     ]
    },
    {
     "name": "stderr",
     "output_type": "stream",
     "text": [
      "  5%|████                                                                              | 5/100 [00:18<05:41,  3.59s/it]"
     ]
    },
    {
     "name": "stdout",
     "output_type": "stream",
     "text": [
      "val loss: 0.23002047845438972\n",
      "val acc: 0.9504950495049505\n",
      "epoch loss: 0.06763911005697389\n",
      "acc: 0.98984897251795\n"
     ]
    },
    {
     "name": "stderr",
     "output_type": "stream",
     "text": [
      "  6%|████▉                                                                             | 6/100 [00:21<05:35,  3.57s/it]"
     ]
    },
    {
     "name": "stdout",
     "output_type": "stream",
     "text": [
      "val loss: 0.12449849632870477\n",
      "val acc: 0.9732673267326732\n",
      "epoch loss: 0.06424687866939607\n",
      "acc: 0.9861351819757366\n"
     ]
    },
    {
     "name": "stderr",
     "output_type": "stream",
     "text": [
      "  7%|█████▋                                                                            | 7/100 [00:25<05:29,  3.55s/it]"
     ]
    },
    {
     "name": "stdout",
     "output_type": "stream",
     "text": [
      "val loss: 0.2032454031453567\n",
      "val acc: 0.9772277227722772\n",
      "epoch loss: 0.054275302326328025\n",
      "acc: 0.9900965585540975\n"
     ]
    },
    {
     "name": "stderr",
     "output_type": "stream",
     "text": [
      "  8%|██████▌                                                                           | 8/100 [00:28<05:25,  3.54s/it]"
     ]
    },
    {
     "name": "stdout",
     "output_type": "stream",
     "text": [
      "val loss: 0.17085549134006356\n",
      "val acc: 0.9722772277227723\n",
      "epoch loss: 0.050033601434580924\n",
      "acc: 0.9910869026986878\n"
     ]
    },
    {
     "name": "stderr",
     "output_type": "stream",
     "text": [
      "  9%|███████▍                                                                          | 9/100 [00:32<05:21,  3.53s/it]"
     ]
    },
    {
     "name": "stdout",
     "output_type": "stream",
     "text": [
      "val loss: 0.14884859028991576\n",
      "val acc: 0.9752475247524752\n",
      "epoch loss: 0.05506276011275068\n",
      "acc: 0.98984897251795\n"
     ]
    },
    {
     "name": "stderr",
     "output_type": "stream",
     "text": [
      " 10%|████████                                                                         | 10/100 [00:35<05:18,  3.54s/it]"
     ]
    },
    {
     "name": "stdout",
     "output_type": "stream",
     "text": [
      "val loss: 0.23378738300688692\n",
      "val acc: 0.9732673267326732\n",
      "epoch loss: 0.03652148948640028\n",
      "acc: 0.9945531072047537\n"
     ]
    },
    {
     "name": "stderr",
     "output_type": "stream",
     "text": [
      " 11%|████████▉                                                                        | 11/100 [00:39<05:13,  3.53s/it]"
     ]
    },
    {
     "name": "stdout",
     "output_type": "stream",
     "text": [
      "val loss: 0.116139658082971\n",
      "val acc: 0.9762376237623762\n",
      "epoch loss: 0.03811005738697901\n",
      "acc: 0.9930675909878682\n"
     ]
    },
    {
     "name": "stderr",
     "output_type": "stream",
     "text": [
      " 12%|█████████▋                                                                       | 12/100 [00:42<05:09,  3.52s/it]"
     ]
    },
    {
     "name": "stdout",
     "output_type": "stream",
     "text": [
      "val loss: 0.12187226285006976\n",
      "val acc: 0.9752475247524752\n",
      "epoch loss: 0.03775057008599898\n",
      "acc: 0.9935627630601634\n"
     ]
    },
    {
     "name": "stderr",
     "output_type": "stream",
     "text": [
      " 13%|██████████▌                                                                      | 13/100 [00:46<05:05,  3.51s/it]"
     ]
    },
    {
     "name": "stdout",
     "output_type": "stream",
     "text": [
      "val loss: 0.08997534467258946\n",
      "val acc: 0.9772277227722772\n",
      "epoch loss: 0.037348519882768175\n",
      "acc: 0.9930675909878682\n"
     ]
    },
    {
     "name": "stderr",
     "output_type": "stream",
     "text": [
      " 14%|███████████▎                                                                     | 14/100 [00:50<05:08,  3.59s/it]"
     ]
    },
    {
     "name": "stdout",
     "output_type": "stream",
     "text": [
      "val loss: 0.14282094427891553\n",
      "val acc: 0.9772277227722772\n",
      "epoch loss: 0.03541689181387987\n",
      "acc: 0.9940579351324585\n"
     ]
    },
    {
     "name": "stderr",
     "output_type": "stream",
     "text": [
      " 15%|████████████▏                                                                    | 15/100 [00:53<05:05,  3.59s/it]"
     ]
    },
    {
     "name": "stdout",
     "output_type": "stream",
     "text": [
      "val loss: 0.08960823379361899\n",
      "val acc: 0.9792079207920792\n",
      "epoch loss: 0.04393080919593432\n",
      "acc: 0.9915820747709829\n"
     ]
    },
    {
     "name": "stderr",
     "output_type": "stream",
     "text": [
      " 16%|████████████▉                                                                    | 16/100 [00:57<05:04,  3.62s/it]"
     ]
    },
    {
     "name": "stdout",
     "output_type": "stream",
     "text": [
      "val loss: 0.1175988986667459\n",
      "val acc: 0.9792079207920792\n",
      "epoch loss: 0.031481644020780075\n",
      "acc: 0.9952958653131964\n"
     ]
    },
    {
     "name": "stderr",
     "output_type": "stream",
     "text": [
      " 17%|█████████████▊                                                                   | 17/100 [01:00<05:00,  3.62s/it]"
     ]
    },
    {
     "name": "stdout",
     "output_type": "stream",
     "text": [
      "val loss: 0.0775068458233063\n",
      "val acc: 0.9811881188118812\n",
      "epoch loss: 0.03129364941612066\n",
      "acc: 0.9938103490963109\n"
     ]
    },
    {
     "name": "stderr",
     "output_type": "stream",
     "text": [
      " 18%|██████████████▌                                                                  | 18/100 [01:04<05:00,  3.66s/it]"
     ]
    },
    {
     "name": "stdout",
     "output_type": "stream",
     "text": [
      "val loss: 0.13183388127071197\n",
      "val acc: 0.9782178217821782\n",
      "epoch loss: 0.037908578189237936\n",
      "acc: 0.9925724189155731\n"
     ]
    },
    {
     "name": "stderr",
     "output_type": "stream",
     "text": [
      " 19%|███████████████▍                                                                 | 19/100 [01:09<05:15,  3.90s/it]"
     ]
    },
    {
     "name": "stdout",
     "output_type": "stream",
     "text": [
      "val loss: 0.10918699146488733\n",
      "val acc: 0.9782178217821782\n",
      "epoch loss: 0.035937945337203625\n",
      "acc: 0.9925724189155731\n"
     ]
    },
    {
     "name": "stderr",
     "output_type": "stream",
     "text": [
      " 20%|████████████████▏                                                                | 20/100 [01:13<05:31,  4.14s/it]"
     ]
    },
    {
     "name": "stdout",
     "output_type": "stream",
     "text": [
      "val loss: 0.08293426759535373\n",
      "val acc: 0.9821782178217822\n",
      "epoch loss: 0.031074794198077755\n",
      "acc: 0.9945531072047537\n"
     ]
    },
    {
     "name": "stderr",
     "output_type": "stream",
     "text": [
      " 21%|█████████████████                                                                | 21/100 [01:17<05:17,  4.01s/it]"
     ]
    },
    {
     "name": "stdout",
     "output_type": "stream",
     "text": [
      "val loss: 0.06326824318671163\n",
      "val acc: 0.9801980198019802\n",
      "epoch loss: 0.04044634752280046\n",
      "acc: 0.9915820747709829\n"
     ]
    },
    {
     "name": "stderr",
     "output_type": "stream",
     "text": [
      " 22%|█████████████████▊                                                               | 22/100 [01:21<05:05,  3.91s/it]"
     ]
    },
    {
     "name": "stdout",
     "output_type": "stream",
     "text": [
      "val loss: 0.18525930155643186\n",
      "val acc: 0.9425742574257425\n",
      "epoch loss: 0.034596913325441334\n",
      "acc: 0.994305521168606\n"
     ]
    },
    {
     "name": "stderr",
     "output_type": "stream",
     "text": [
      " 23%|██████████████████▋                                                              | 23/100 [01:24<04:55,  3.84s/it]"
     ]
    },
    {
     "name": "stdout",
     "output_type": "stream",
     "text": [
      "val loss: 0.09809599085338153\n",
      "val acc: 0.9801980198019802\n",
      "epoch loss: 0.030295676820962472\n",
      "acc: 0.9948006932409013\n"
     ]
    },
    {
     "name": "stderr",
     "output_type": "stream",
     "text": [
      " 24%|███████████████████▍                                                             | 24/100 [01:28<04:46,  3.77s/it]"
     ]
    },
    {
     "name": "stdout",
     "output_type": "stream",
     "text": [
      "val loss: 0.0844593897092331\n",
      "val acc: 0.9801980198019802\n",
      "epoch loss: 0.02772136896548347\n",
      "acc: 0.9952958653131964\n"
     ]
    },
    {
     "name": "stderr",
     "output_type": "stream",
     "text": [
      " 25%|████████████████████▎                                                            | 25/100 [01:32<04:38,  3.71s/it]"
     ]
    },
    {
     "name": "stdout",
     "output_type": "stream",
     "text": [
      "val loss: 0.0973874806231805\n",
      "val acc: 0.9782178217821782\n",
      "epoch loss: 0.02951194529244339\n",
      "acc: 0.9952958653131964\n"
     ]
    },
    {
     "name": "stderr",
     "output_type": "stream",
     "text": [
      " 26%|█████████████████████                                                            | 26/100 [01:35<04:32,  3.68s/it]"
     ]
    },
    {
     "name": "stdout",
     "output_type": "stream",
     "text": [
      "val loss: 0.09386987367514867\n",
      "val acc: 0.9782178217821782\n",
      "epoch loss: 0.031320240730257305\n",
      "acc: 0.9948006932409013\n"
     ]
    },
    {
     "name": "stderr",
     "output_type": "stream",
     "text": [
      " 27%|█████████████████████▊                                                           | 27/100 [01:39<04:30,  3.71s/it]"
     ]
    },
    {
     "name": "stdout",
     "output_type": "stream",
     "text": [
      "val loss: 0.07260465583111103\n",
      "val acc: 0.9792079207920792\n",
      "epoch loss: 0.045905245259376955\n",
      "acc: 0.9908393166625402\n"
     ]
    },
    {
     "name": "stderr",
     "output_type": "stream",
     "text": [
      " 28%|██████████████████████▋                                                          | 28/100 [01:43<04:29,  3.75s/it]"
     ]
    },
    {
     "name": "stdout",
     "output_type": "stream",
     "text": [
      "val loss: 0.07909848979449008\n",
      "val acc: 0.9792079207920792\n",
      "epoch loss: 0.028011392838480687\n",
      "acc: 0.9955434513493439\n"
     ]
    },
    {
     "name": "stderr",
     "output_type": "stream",
     "text": [
      " 29%|███████████████████████▍                                                         | 29/100 [01:46<04:21,  3.68s/it]"
     ]
    },
    {
     "name": "stdout",
     "output_type": "stream",
     "text": [
      "val loss: 0.09767682360694778\n",
      "val acc: 0.9801980198019802\n",
      "epoch loss: 0.027043279988684294\n",
      "acc: 0.9952958653131964\n"
     ]
    },
    {
     "name": "stderr",
     "output_type": "stream",
     "text": [
      " 30%|████████████████████████▎                                                        | 30/100 [01:50<04:15,  3.65s/it]"
     ]
    },
    {
     "name": "stdout",
     "output_type": "stream",
     "text": [
      "val loss: 0.11374814864376795\n",
      "val acc: 0.9792079207920792\n",
      "epoch loss: 0.03051505432222707\n",
      "acc: 0.994305521168606\n"
     ]
    },
    {
     "name": "stderr",
     "output_type": "stream",
     "text": [
      " 31%|█████████████████████████                                                        | 31/100 [01:53<04:09,  3.62s/it]"
     ]
    },
    {
     "name": "stdout",
     "output_type": "stream",
     "text": [
      "val loss: 0.09811323455978221\n",
      "val acc: 0.9811881188118812\n",
      "epoch loss: 0.029545739517457287\n",
      "acc: 0.9948006932409013\n"
     ]
    },
    {
     "name": "stderr",
     "output_type": "stream",
     "text": [
      " 32%|█████████████████████████▉                                                       | 32/100 [01:57<04:04,  3.59s/it]"
     ]
    },
    {
     "name": "stdout",
     "output_type": "stream",
     "text": [
      "val loss: 0.09062297691580513\n",
      "val acc: 0.9792079207920792\n",
      "epoch loss: 0.03208662006895027\n",
      "acc: 0.9950482792770488\n"
     ]
    },
    {
     "name": "stderr",
     "output_type": "stream",
     "text": [
      " 33%|██████████████████████████▋                                                      | 33/100 [02:01<04:01,  3.60s/it]"
     ]
    },
    {
     "name": "stdout",
     "output_type": "stream",
     "text": [
      "val loss: 0.09251953035516852\n",
      "val acc: 0.9801980198019802\n",
      "epoch loss: 0.056462394339992034\n",
      "acc: 0.98984897251795\n"
     ]
    },
    {
     "name": "stderr",
     "output_type": "stream",
     "text": [
      " 34%|███████████████████████████▌                                                     | 34/100 [02:04<03:57,  3.59s/it]"
     ]
    },
    {
     "name": "stdout",
     "output_type": "stream",
     "text": [
      "val loss: 0.12301456538103904\n",
      "val acc: 0.9702970297029703\n",
      "epoch loss: 0.030401607535384415\n",
      "acc: 0.9945531072047537\n"
     ]
    },
    {
     "name": "stderr",
     "output_type": "stream",
     "text": [
      " 35%|████████████████████████████▎                                                    | 35/100 [02:08<03:53,  3.59s/it]"
     ]
    },
    {
     "name": "stdout",
     "output_type": "stream",
     "text": [
      "val loss: 0.08010586889790125\n",
      "val acc: 0.9792079207920792\n",
      "epoch loss: 0.02642885586358869\n",
      "acc: 0.9955434513493439\n"
     ]
    },
    {
     "name": "stderr",
     "output_type": "stream",
     "text": [
      " 36%|█████████████████████████████▏                                                   | 36/100 [02:11<03:50,  3.60s/it]"
     ]
    },
    {
     "name": "stdout",
     "output_type": "stream",
     "text": [
      "val loss: 0.07152663447893845\n",
      "val acc: 0.9792079207920792\n",
      "epoch loss: 0.028392880166045707\n",
      "acc: 0.9952958653131964\n"
     ]
    },
    {
     "name": "stderr",
     "output_type": "stream",
     "text": [
      " 37%|█████████████████████████████▉                                                   | 37/100 [02:15<03:46,  3.59s/it]"
     ]
    },
    {
     "name": "stdout",
     "output_type": "stream",
     "text": [
      "val loss: 0.097589630699359\n",
      "val acc: 0.9821782178217822\n",
      "epoch loss: 0.029622176003541237\n",
      "acc: 0.9945531072047537\n"
     ]
    },
    {
     "name": "stderr",
     "output_type": "stream",
     "text": [
      " 38%|██████████████████████████████▊                                                  | 38/100 [02:19<03:42,  3.58s/it]"
     ]
    },
    {
     "name": "stdout",
     "output_type": "stream",
     "text": [
      "val loss: 0.09777087169139209\n",
      "val acc: 0.9811881188118812\n",
      "epoch loss: 0.027091305092064862\n",
      "acc: 0.9957910373854915\n"
     ]
    },
    {
     "name": "stderr",
     "output_type": "stream",
     "text": [
      " 39%|███████████████████████████████▌                                                 | 39/100 [02:22<03:37,  3.57s/it]"
     ]
    },
    {
     "name": "stdout",
     "output_type": "stream",
     "text": [
      "val loss: 0.08254698268740798\n",
      "val acc: 0.9801980198019802\n",
      "epoch loss: 0.02718660898116117\n",
      "acc: 0.9952958653131964\n"
     ]
    },
    {
     "name": "stderr",
     "output_type": "stream",
     "text": [
      " 40%|████████████████████████████████▍                                                | 40/100 [02:26<03:33,  3.55s/it]"
     ]
    },
    {
     "name": "stdout",
     "output_type": "stream",
     "text": [
      "val loss: 0.0909435003502565\n",
      "val acc: 0.9821782178217822\n",
      "epoch loss: 0.028799238542724467\n",
      "acc: 0.9950482792770488\n"
     ]
    },
    {
     "name": "stderr",
     "output_type": "stream",
     "text": [
      " 41%|█████████████████████████████████▏                                               | 41/100 [02:29<03:28,  3.53s/it]"
     ]
    },
    {
     "name": "stdout",
     "output_type": "stream",
     "text": [
      "val loss: 0.11118920755007347\n",
      "val acc: 0.9831683168316832\n",
      "epoch loss: 0.03278564733784043\n",
      "acc: 0.9940579351324585\n"
     ]
    },
    {
     "name": "stderr",
     "output_type": "stream",
     "text": [
      " 42%|██████████████████████████████████                                               | 42/100 [02:33<03:25,  3.53s/it]"
     ]
    },
    {
     "name": "stdout",
     "output_type": "stream",
     "text": [
      "val loss: 0.08100899458983858\n",
      "val acc: 0.9811881188118812\n",
      "epoch loss: 0.027386509567688587\n",
      "acc: 0.9957910373854915\n"
     ]
    },
    {
     "name": "stderr",
     "output_type": "stream",
     "text": [
      " 43%|██████████████████████████████████▊                                              | 43/100 [02:36<03:21,  3.54s/it]"
     ]
    },
    {
     "name": "stdout",
     "output_type": "stream",
     "text": [
      "val loss: 0.09159528130432507\n",
      "val acc: 0.9801980198019802\n",
      "epoch loss: 0.02638630780746116\n",
      "acc: 0.9957910373854915\n"
     ]
    },
    {
     "name": "stderr",
     "output_type": "stream",
     "text": [
      " 44%|███████████████████████████████████▋                                             | 44/100 [02:40<03:17,  3.53s/it]"
     ]
    },
    {
     "name": "stdout",
     "output_type": "stream",
     "text": [
      "val loss: 0.07945802912480225\n",
      "val acc: 0.9811881188118812\n",
      "epoch loss: 0.029067778922539634\n",
      "acc: 0.9948006932409013\n"
     ]
    },
    {
     "name": "stderr",
     "output_type": "stream",
     "text": [
      " 45%|████████████████████████████████████▍                                            | 45/100 [02:43<03:13,  3.52s/it]"
     ]
    },
    {
     "name": "stdout",
     "output_type": "stream",
     "text": [
      "val loss: 0.08997430791209077\n",
      "val acc: 0.9782178217821782\n",
      "epoch loss: 0.02721696947185835\n",
      "acc: 0.9950482792770488\n"
     ]
    },
    {
     "name": "stderr",
     "output_type": "stream",
     "text": [
      " 46%|█████████████████████████████████████▎                                           | 46/100 [02:47<03:10,  3.53s/it]"
     ]
    },
    {
     "name": "stdout",
     "output_type": "stream",
     "text": [
      "val loss: 0.12600088074500435\n",
      "val acc: 0.9584158415841584\n",
      "epoch loss: 0.047043340584383656\n",
      "acc: 0.9891062144095073\n"
     ]
    },
    {
     "name": "stderr",
     "output_type": "stream",
     "text": [
      " 47%|██████████████████████████████████████                                           | 47/100 [02:50<03:07,  3.54s/it]"
     ]
    },
    {
     "name": "stdout",
     "output_type": "stream",
     "text": [
      "val loss: 0.09853053098128622\n",
      "val acc: 0.9801980198019802\n",
      "epoch loss: 0.02512532908290493\n",
      "acc: 0.9955434513493439\n"
     ]
    },
    {
     "name": "stderr",
     "output_type": "stream",
     "text": [
      " 48%|██████████████████████████████████████▉                                          | 48/100 [02:54<03:04,  3.54s/it]"
     ]
    },
    {
     "name": "stdout",
     "output_type": "stream",
     "text": [
      "val loss: 0.08987693154165685\n",
      "val acc: 0.9801980198019802\n",
      "epoch loss: 0.026806620527986526\n",
      "acc: 0.9950482792770488\n"
     ]
    },
    {
     "name": "stderr",
     "output_type": "stream",
     "text": [
      " 49%|███████████████████████████████████████▋                                         | 49/100 [02:57<02:59,  3.53s/it]"
     ]
    },
    {
     "name": "stdout",
     "output_type": "stream",
     "text": [
      "val loss: 0.08770160035352541\n",
      "val acc: 0.9801980198019802\n",
      "epoch loss: 0.025205002869951934\n",
      "acc: 0.9957910373854915\n"
     ]
    },
    {
     "name": "stderr",
     "output_type": "stream",
     "text": [
      " 50%|████████████████████████████████████████▌                                        | 50/100 [03:01<02:56,  3.53s/it]"
     ]
    },
    {
     "name": "stdout",
     "output_type": "stream",
     "text": [
      "val loss: 0.07894712595142003\n",
      "val acc: 0.9811881188118812\n",
      "epoch loss: 0.026010190037206737\n",
      "acc: 0.9955434513493439\n"
     ]
    },
    {
     "name": "stderr",
     "output_type": "stream",
     "text": [
      " 51%|█████████████████████████████████████████▎                                       | 51/100 [03:04<02:52,  3.52s/it]"
     ]
    },
    {
     "name": "stdout",
     "output_type": "stream",
     "text": [
      "val loss: 0.09232612976241417\n",
      "val acc: 0.9811881188118812\n",
      "epoch loss: 0.025655146603969458\n",
      "acc: 0.9955434513493439\n"
     ]
    },
    {
     "name": "stderr",
     "output_type": "stream",
     "text": [
      " 52%|██████████████████████████████████████████                                       | 52/100 [03:08<02:49,  3.53s/it]"
     ]
    },
    {
     "name": "stdout",
     "output_type": "stream",
     "text": [
      "val loss: 0.07501284219735281\n",
      "val acc: 0.9811881188118812\n",
      "epoch loss: 0.026864196254766538\n",
      "acc: 0.9950482792770488\n"
     ]
    },
    {
     "name": "stderr",
     "output_type": "stream",
     "text": [
      " 53%|██████████████████████████████████████████▉                                      | 53/100 [03:11<02:46,  3.53s/it]"
     ]
    },
    {
     "name": "stdout",
     "output_type": "stream",
     "text": [
      "val loss: 0.07351619958169966\n",
      "val acc: 0.9801980198019802\n",
      "epoch loss: 0.02624421653948831\n",
      "acc: 0.9952958653131964\n"
     ]
    },
    {
     "name": "stderr",
     "output_type": "stream",
     "text": [
      " 54%|███████████████████████████████████████████▋                                     | 54/100 [03:15<02:41,  3.51s/it]"
     ]
    },
    {
     "name": "stdout",
     "output_type": "stream",
     "text": [
      "val loss: 0.07111453611120262\n",
      "val acc: 0.9821782178217822\n",
      "epoch loss: 0.029885653405305634\n",
      "acc: 0.9938103490963109\n"
     ]
    },
    {
     "name": "stderr",
     "output_type": "stream",
     "text": [
      " 55%|████████████████████████████████████████████▌                                    | 55/100 [03:18<02:38,  3.51s/it]"
     ]
    },
    {
     "name": "stdout",
     "output_type": "stream",
     "text": [
      "val loss: 0.07050347877460356\n",
      "val acc: 0.9811881188118812\n",
      "epoch loss: 0.02588039576050307\n",
      "acc: 0.9950482792770488\n"
     ]
    },
    {
     "name": "stderr",
     "output_type": "stream",
     "text": [
      " 56%|█████████████████████████████████████████████▎                                   | 56/100 [03:22<02:34,  3.52s/it]"
     ]
    },
    {
     "name": "stdout",
     "output_type": "stream",
     "text": [
      "val loss: 0.08480948350094003\n",
      "val acc: 0.9752475247524752\n",
      "epoch loss: 0.027257460342504806\n",
      "acc: 0.9950482792770488\n"
     ]
    },
    {
     "name": "stderr",
     "output_type": "stream",
     "text": [
      " 57%|██████████████████████████████████████████████▏                                  | 57/100 [03:26<02:31,  3.53s/it]"
     ]
    },
    {
     "name": "stdout",
     "output_type": "stream",
     "text": [
      "val loss: 0.07058747755138393\n",
      "val acc: 0.9801980198019802\n",
      "epoch loss: 0.024094017720798017\n",
      "acc: 0.9955434513493439\n"
     ]
    },
    {
     "name": "stderr",
     "output_type": "stream",
     "text": [
      " 58%|██████████████████████████████████████████████▉                                  | 58/100 [03:29<02:28,  3.53s/it]"
     ]
    },
    {
     "name": "stdout",
     "output_type": "stream",
     "text": [
      "val loss: 0.09141471924286766\n",
      "val acc: 0.9821782178217822\n",
      "epoch loss: 0.025124356719797025\n",
      "acc: 0.9955434513493439\n"
     ]
    },
    {
     "name": "stderr",
     "output_type": "stream",
     "text": [
      " 59%|███████████████████████████████████████████████▊                                 | 59/100 [03:33<02:24,  3.52s/it]"
     ]
    },
    {
     "name": "stdout",
     "output_type": "stream",
     "text": [
      "val loss: 0.0719343094767272\n",
      "val acc: 0.9811881188118812\n",
      "epoch loss: 0.027862244556937265\n",
      "acc: 0.9948006932409013\n"
     ]
    },
    {
     "name": "stderr",
     "output_type": "stream",
     "text": [
      " 60%|████████████████████████████████████████████████▌                                | 60/100 [03:36<02:20,  3.51s/it]"
     ]
    },
    {
     "name": "stdout",
     "output_type": "stream",
     "text": [
      "val loss: 0.09214241684967302\n",
      "val acc: 0.9801980198019802\n",
      "epoch loss: 0.026874613432890795\n",
      "acc: 0.9955434513493439\n"
     ]
    },
    {
     "name": "stderr",
     "output_type": "stream",
     "text": [
      " 61%|█████████████████████████████████████████████████▍                               | 61/100 [03:40<02:16,  3.50s/it]"
     ]
    },
    {
     "name": "stdout",
     "output_type": "stream",
     "text": [
      "val loss: 0.06829439477285333\n",
      "val acc: 0.9841584158415841\n",
      "epoch loss: 0.024480520636762496\n",
      "acc: 0.9957910373854915\n"
     ]
    },
    {
     "name": "stderr",
     "output_type": "stream",
     "text": [
      " 62%|██████████████████████████████████████████████████▏                              | 62/100 [03:43<02:13,  3.51s/it]"
     ]
    },
    {
     "name": "stdout",
     "output_type": "stream",
     "text": [
      "val loss: 0.10888887950365826\n",
      "val acc: 0.9742574257425742\n",
      "epoch loss: 0.03269248785469821\n",
      "acc: 0.9935627630601634\n"
     ]
    },
    {
     "name": "stderr",
     "output_type": "stream",
     "text": [
      " 63%|███████████████████████████████████████████████████                              | 63/100 [03:47<02:10,  3.53s/it]"
     ]
    },
    {
     "name": "stdout",
     "output_type": "stream",
     "text": [
      "val loss: 0.08622035591241863\n",
      "val acc: 0.9821782178217822\n",
      "epoch loss: 0.024226202168187914\n",
      "acc: 0.9957910373854915\n"
     ]
    },
    {
     "name": "stderr",
     "output_type": "stream",
     "text": [
      " 64%|███████████████████████████████████████████████████▊                             | 64/100 [03:50<02:07,  3.53s/it]"
     ]
    },
    {
     "name": "stdout",
     "output_type": "stream",
     "text": [
      "val loss: 0.09441823747156995\n",
      "val acc: 0.9831683168316832\n",
      "epoch loss: 0.02454509515913796\n",
      "acc: 0.9957910373854915\n"
     ]
    },
    {
     "name": "stderr",
     "output_type": "stream",
     "text": [
      " 65%|████████████████████████████████████████████████████▋                            | 65/100 [03:54<02:03,  3.53s/it]"
     ]
    },
    {
     "name": "stdout",
     "output_type": "stream",
     "text": [
      "val loss: 0.06962117875840874\n",
      "val acc: 0.9811881188118812\n",
      "epoch loss: 0.024700328522762317\n",
      "acc: 0.9955434513493439\n"
     ]
    },
    {
     "name": "stderr",
     "output_type": "stream",
     "text": [
      " 66%|█████████████████████████████████████████████████████▍                           | 66/100 [03:57<02:00,  3.54s/it]"
     ]
    },
    {
     "name": "stdout",
     "output_type": "stream",
     "text": [
      "val loss: 0.08546926875540865\n",
      "val acc: 0.9801980198019802\n",
      "epoch loss: 0.0322947761620877\n",
      "acc: 0.9935627630601634\n"
     ]
    },
    {
     "name": "stderr",
     "output_type": "stream",
     "text": [
      " 67%|██████████████████████████████████████████████████████▎                          | 67/100 [04:01<01:56,  3.54s/it]"
     ]
    },
    {
     "name": "stdout",
     "output_type": "stream",
     "text": [
      "val loss: 0.09006209222182729\n",
      "val acc: 0.9811881188118812\n",
      "epoch loss: 0.025244807724066228\n",
      "acc: 0.9952958653131964\n"
     ]
    },
    {
     "name": "stderr",
     "output_type": "stream",
     "text": [
      " 68%|███████████████████████████████████████████████████████                          | 68/100 [04:05<01:58,  3.69s/it]"
     ]
    },
    {
     "name": "stdout",
     "output_type": "stream",
     "text": [
      "val loss: 0.09951274817020796\n",
      "val acc: 0.9792079207920792\n",
      "epoch loss: 0.02721630657110161\n",
      "acc: 0.9945531072047537\n"
     ]
    },
    {
     "name": "stderr",
     "output_type": "stream",
     "text": [
      " 69%|███████████████████████████████████████████████████████▉                         | 69/100 [04:09<01:57,  3.80s/it]"
     ]
    },
    {
     "name": "stdout",
     "output_type": "stream",
     "text": [
      "val loss: 0.0945279182870409\n",
      "val acc: 0.9772277227722772\n",
      "epoch loss: 0.024642682229486047\n",
      "acc: 0.9952958653131964\n"
     ]
    },
    {
     "name": "stderr",
     "output_type": "stream",
     "text": [
      " 70%|████████████████████████████████████████████████████████▋                        | 70/100 [04:12<01:52,  3.74s/it]"
     ]
    },
    {
     "name": "stdout",
     "output_type": "stream",
     "text": [
      "val loss: 0.08547900114992676\n",
      "val acc: 0.9821782178217822\n",
      "epoch loss: 0.021894647115615305\n",
      "acc: 0.9960386234216391\n"
     ]
    },
    {
     "name": "stderr",
     "output_type": "stream",
     "text": [
      " 71%|█████████████████████████████████████████████████████████▌                       | 71/100 [04:16<01:47,  3.71s/it]"
     ]
    },
    {
     "name": "stdout",
     "output_type": "stream",
     "text": [
      "val loss: 0.07460908841406029\n",
      "val acc: 0.9841584158415841\n",
      "epoch loss: 0.024416460479581625\n",
      "acc: 0.9952958653131964\n"
     ]
    },
    {
     "name": "stderr",
     "output_type": "stream",
     "text": [
      " 72%|██████████████████████████████████████████████████████████▎                      | 72/100 [04:20<01:45,  3.76s/it]"
     ]
    },
    {
     "name": "stdout",
     "output_type": "stream",
     "text": [
      "val loss: 0.07514934274433309\n",
      "val acc: 0.9851485148514851\n",
      "epoch loss: 0.024078361673144123\n",
      "acc: 0.9955434513493439\n"
     ]
    },
    {
     "name": "stderr",
     "output_type": "stream",
     "text": [
      " 73%|███████████████████████████████████████████████████████████▏                     | 73/100 [04:24<01:40,  3.72s/it]"
     ]
    },
    {
     "name": "stdout",
     "output_type": "stream",
     "text": [
      "val loss: 0.09347750787491596\n",
      "val acc: 0.9831683168316832\n",
      "epoch loss: 0.027911264956885295\n",
      "acc: 0.9945531072047537\n"
     ]
    },
    {
     "name": "stderr",
     "output_type": "stream",
     "text": [
      " 74%|███████████████████████████████████████████████████████████▉                     | 74/100 [04:27<01:34,  3.65s/it]"
     ]
    },
    {
     "name": "stdout",
     "output_type": "stream",
     "text": [
      "val loss: 0.08120038751295529\n",
      "val acc: 0.9811881188118812\n",
      "epoch loss: 0.02530379857242152\n",
      "acc: 0.9957910373854915\n"
     ]
    },
    {
     "name": "stderr",
     "output_type": "stream",
     "text": [
      " 75%|████████████████████████████████████████████████████████████▊                    | 75/100 [04:31<01:30,  3.63s/it]"
     ]
    },
    {
     "name": "stdout",
     "output_type": "stream",
     "text": [
      "val loss: 0.07788895913156894\n",
      "val acc: 0.9841584158415841\n",
      "epoch loss: 0.024671033449622782\n",
      "acc: 0.9950482792770488\n"
     ]
    },
    {
     "name": "stderr",
     "output_type": "stream",
     "text": [
      " 76%|█████████████████████████████████████████████████████████████▌                   | 76/100 [04:34<01:26,  3.61s/it]"
     ]
    },
    {
     "name": "stdout",
     "output_type": "stream",
     "text": [
      "val loss: 0.08349950424002843\n",
      "val acc: 0.9762376237623762\n",
      "epoch loss: 0.02333925144266405\n",
      "acc: 0.9962862094577866\n"
     ]
    },
    {
     "name": "stderr",
     "output_type": "stream",
     "text": [
      " 77%|██████████████████████████████████████████████████████████████▎                  | 77/100 [04:38<01:25,  3.70s/it]"
     ]
    },
    {
     "name": "stdout",
     "output_type": "stream",
     "text": [
      "val loss: 0.0892426590078645\n",
      "val acc: 0.9831683168316832\n",
      "epoch loss: 0.024597072142269368\n",
      "acc: 0.9952958653131964\n"
     ]
    },
    {
     "name": "stderr",
     "output_type": "stream",
     "text": [
      " 78%|███████████████████████████████████████████████████████████████▏                 | 78/100 [04:42<01:20,  3.64s/it]"
     ]
    },
    {
     "name": "stdout",
     "output_type": "stream",
     "text": [
      "val loss: 0.08556261140924798\n",
      "val acc: 0.9801980198019802\n",
      "epoch loss: 0.024443930965338555\n",
      "acc: 0.9955434513493439\n"
     ]
    },
    {
     "name": "stderr",
     "output_type": "stream",
     "text": [
      " 79%|███████████████████████████████████████████████████████████████▉                 | 79/100 [04:45<01:15,  3.59s/it]"
     ]
    },
    {
     "name": "stdout",
     "output_type": "stream",
     "text": [
      "val loss: 0.07185112620935545\n",
      "val acc: 0.9821782178217822\n",
      "epoch loss: 0.024203924941314268\n",
      "acc: 0.9952958653131964\n"
     ]
    },
    {
     "name": "stderr",
     "output_type": "stream",
     "text": [
      " 80%|████████████████████████████████████████████████████████████████▊                | 80/100 [04:49<01:11,  3.57s/it]"
     ]
    },
    {
     "name": "stdout",
     "output_type": "stream",
     "text": [
      "val loss: 0.05261346071799054\n",
      "val acc: 0.9841584158415841\n",
      "epoch loss: 0.028099605844469203\n",
      "acc: 0.9948006932409013\n"
     ]
    },
    {
     "name": "stderr",
     "output_type": "stream",
     "text": [
      " 81%|█████████████████████████████████████████████████████████████████▌               | 81/100 [04:52<01:07,  3.55s/it]"
     ]
    },
    {
     "name": "stdout",
     "output_type": "stream",
     "text": [
      "val loss: 0.06646645195855946\n",
      "val acc: 0.9841584158415841\n",
      "epoch loss: 0.026600434962572125\n",
      "acc: 0.994305521168606\n"
     ]
    },
    {
     "name": "stderr",
     "output_type": "stream",
     "text": [
      " 82%|██████████████████████████████████████████████████████████████████▍              | 82/100 [04:56<01:03,  3.54s/it]"
     ]
    },
    {
     "name": "stdout",
     "output_type": "stream",
     "text": [
      "val loss: 0.057722399737528275\n",
      "val acc: 0.9841584158415841\n",
      "epoch loss: 0.022233619817821883\n",
      "acc: 0.9960386234216391\n"
     ]
    },
    {
     "name": "stderr",
     "output_type": "stream",
     "text": [
      " 83%|███████████████████████████████████████████████████████████████████▏             | 83/100 [04:59<01:00,  3.53s/it]"
     ]
    },
    {
     "name": "stdout",
     "output_type": "stream",
     "text": [
      "val loss: 0.08475090461436013\n",
      "val acc: 0.9841584158415841\n",
      "epoch loss: 0.023473318295752225\n",
      "acc: 0.9955434513493439\n"
     ]
    },
    {
     "name": "stderr",
     "output_type": "stream",
     "text": [
      " 84%|████████████████████████████████████████████████████████████████████             | 84/100 [05:03<00:56,  3.52s/it]"
     ]
    },
    {
     "name": "stdout",
     "output_type": "stream",
     "text": [
      "val loss: 0.06484620100786549\n",
      "val acc: 0.9851485148514851\n",
      "epoch loss: 0.02195462455052783\n",
      "acc: 0.9960386234216391\n"
     ]
    },
    {
     "name": "stderr",
     "output_type": "stream",
     "text": [
      " 85%|████████████████████████████████████████████████████████████████████▊            | 85/100 [05:06<00:52,  3.53s/it]"
     ]
    },
    {
     "name": "stdout",
     "output_type": "stream",
     "text": [
      "val loss: 0.07974480523674665\n",
      "val acc: 0.9841584158415841\n",
      "epoch loss: 0.02278786457202876\n",
      "acc: 0.9957910373854915\n"
     ]
    },
    {
     "name": "stderr",
     "output_type": "stream",
     "text": [
      " 86%|█████████████████████████████████████████████████████████████████████▋           | 86/100 [05:10<00:49,  3.52s/it]"
     ]
    },
    {
     "name": "stdout",
     "output_type": "stream",
     "text": [
      "val loss: 0.06618538700137042\n",
      "val acc: 0.9841584158415841\n",
      "epoch loss: 0.022828941042814337\n",
      "acc: 0.9960386234216391\n"
     ]
    },
    {
     "name": "stderr",
     "output_type": "stream",
     "text": [
      " 87%|██████████████████████████████████████████████████████████████████████▍          | 87/100 [05:13<00:46,  3.55s/it]"
     ]
    },
    {
     "name": "stdout",
     "output_type": "stream",
     "text": [
      "val loss: 0.062598944040086\n",
      "val acc: 0.9851485148514851\n",
      "epoch loss: 0.02267663591264233\n",
      "acc: 0.9957910373854915\n"
     ]
    },
    {
     "name": "stderr",
     "output_type": "stream",
     "text": [
      " 88%|███████████████████████████████████████████████████████████████████████▎         | 88/100 [05:17<00:42,  3.52s/it]"
     ]
    },
    {
     "name": "stdout",
     "output_type": "stream",
     "text": [
      "val loss: 0.05291646129197777\n",
      "val acc: 0.9851485148514851\n",
      "epoch loss: 0.022759650414175416\n",
      "acc: 0.9960386234216391\n"
     ]
    },
    {
     "name": "stderr",
     "output_type": "stream",
     "text": [
      " 89%|████████████████████████████████████████████████████████████████████████         | 89/100 [05:20<00:38,  3.49s/it]"
     ]
    },
    {
     "name": "stdout",
     "output_type": "stream",
     "text": [
      "val loss: 0.07832794836326981\n",
      "val acc: 0.9841584158415841\n",
      "epoch loss: 0.021741386777674024\n",
      "acc: 0.9960386234216391\n"
     ]
    },
    {
     "name": "stderr",
     "output_type": "stream",
     "text": [
      " 90%|████████████████████████████████████████████████████████████████████████▉        | 90/100 [05:24<00:34,  3.48s/it]"
     ]
    },
    {
     "name": "stdout",
     "output_type": "stream",
     "text": [
      "val loss: 0.07740431672287588\n",
      "val acc: 0.9831683168316832\n",
      "epoch loss: 0.03240534200440693\n",
      "acc: 0.9940579351324585\n"
     ]
    },
    {
     "name": "stderr",
     "output_type": "stream",
     "text": [
      " 91%|█████████████████████████████████████████████████████████████████████████▋       | 91/100 [05:27<00:31,  3.48s/it]"
     ]
    },
    {
     "name": "stdout",
     "output_type": "stream",
     "text": [
      "val loss: 0.09180192601055004\n",
      "val acc: 0.9841584158415841\n",
      "epoch loss: 0.023387835430386732\n",
      "acc: 0.9957910373854915\n"
     ]
    },
    {
     "name": "stderr",
     "output_type": "stream",
     "text": [
      " 92%|██████████████████████████████████████████████████████████████████████████▌      | 92/100 [05:31<00:27,  3.46s/it]"
     ]
    },
    {
     "name": "stdout",
     "output_type": "stream",
     "text": [
      "val loss: 0.06824131819006127\n",
      "val acc: 0.9821782178217822\n",
      "epoch loss: 0.02456393896609657\n",
      "acc: 0.9952958653131964\n"
     ]
    },
    {
     "name": "stderr",
     "output_type": "stream",
     "text": [
      " 93%|███████████████████████████████████████████████████████████████████████████▎     | 93/100 [05:34<00:24,  3.47s/it]"
     ]
    },
    {
     "name": "stdout",
     "output_type": "stream",
     "text": [
      "val loss: 0.07050817387332467\n",
      "val acc: 0.9831683168316832\n",
      "epoch loss: 0.022167604502770347\n",
      "acc: 0.9962862094577866\n"
     ]
    },
    {
     "name": "stderr",
     "output_type": "stream",
     "text": [
      " 94%|████████████████████████████████████████████████████████████████████████████▏    | 94/100 [05:38<00:20,  3.46s/it]"
     ]
    },
    {
     "name": "stdout",
     "output_type": "stream",
     "text": [
      "val loss: 0.09337305364551993\n",
      "val acc: 0.9821782178217822\n",
      "epoch loss: 0.02186106817445593\n",
      "acc: 0.9957910373854915\n"
     ]
    },
    {
     "name": "stderr",
     "output_type": "stream",
     "text": [
      " 95%|████████████████████████████████████████████████████████████████████████████▉    | 95/100 [05:41<00:17,  3.47s/it]"
     ]
    },
    {
     "name": "stdout",
     "output_type": "stream",
     "text": [
      "val loss: 0.06406201723797927\n",
      "val acc: 0.9841584158415841\n",
      "epoch loss: 0.02218630215614106\n",
      "acc: 0.9960386234216391\n"
     ]
    },
    {
     "name": "stderr",
     "output_type": "stream",
     "text": [
      " 96%|█████████████████████████████████████████████████████████████████████████████▊   | 96/100 [05:44<00:13,  3.48s/it]"
     ]
    },
    {
     "name": "stdout",
     "output_type": "stream",
     "text": [
      "val loss: 0.07218516484514588\n",
      "val acc: 0.9821782178217822\n",
      "epoch loss: 0.021911805405945173\n",
      "acc: 0.9960386234216391\n"
     ]
    },
    {
     "name": "stderr",
     "output_type": "stream",
     "text": [
      " 97%|██████████████████████████████████████████████████████████████████████████████▌  | 97/100 [05:48<00:10,  3.47s/it]"
     ]
    },
    {
     "name": "stdout",
     "output_type": "stream",
     "text": [
      "val loss: 0.09671102623624908\n",
      "val acc: 0.9811881188118812\n",
      "epoch loss: 0.023089409597121892\n",
      "acc: 0.9960386234216391\n"
     ]
    },
    {
     "name": "stderr",
     "output_type": "stream",
     "text": [
      " 98%|███████████████████████████████████████████████████████████████████████████████▍ | 98/100 [05:51<00:06,  3.46s/it]"
     ]
    },
    {
     "name": "stdout",
     "output_type": "stream",
     "text": [
      "val loss: 0.05820354276465666\n",
      "val acc: 0.9841584158415841\n",
      "epoch loss: 0.024073824821068842\n",
      "acc: 0.9957910373854915\n"
     ]
    },
    {
     "name": "stderr",
     "output_type": "stream",
     "text": [
      " 99%|████████████████████████████████████████████████████████████████████████████████▏| 99/100 [05:55<00:03,  3.45s/it]"
     ]
    },
    {
     "name": "stdout",
     "output_type": "stream",
     "text": [
      "val loss: 0.06636560975540498\n",
      "val acc: 0.9841584158415841\n",
      "epoch loss: 0.022023942602710112\n",
      "acc: 0.9952958653131964\n"
     ]
    },
    {
     "name": "stderr",
     "output_type": "stream",
     "text": [
      "100%|████████████████████████████████████████████████████████████████████████████████| 100/100 [05:58<00:00,  3.59s/it]"
     ]
    },
    {
     "name": "stdout",
     "output_type": "stream",
     "text": [
      "val loss: 0.06485570833407371\n",
      "val acc: 0.9841584158415841\n"
     ]
    },
    {
     "name": "stderr",
     "output_type": "stream",
     "text": [
      "\n"
     ]
    }
   ],
   "source": [
    "from sklearn.model_selection import StratifiedKFold\n",
    "from collections import Counter\n",
    "hop = 2\n",
    "batch_size = 8\n",
    "num_epochs = 100\n",
    "num_class = len(actions)\n",
    "skf = StratifiedKFold(n_splits=5)\n",
    "model_path = \"hac\\\\trained_model\\\\gcn\\\\\" + model_target\n",
    "\n",
    "k_fold_losses = []\n",
    "k_fold_accs = []\n",
    "k_fold_val_losses = []\n",
    "k_fold_val_accs = []\n",
    "count = 0\n",
    "for train_index, test_index in skf.split(df_train[target_columns_x].values, df_train.label.values):\n",
    "\n",
    "    if count <= 1:\n",
    "        count += 1\n",
    "        continue\n",
    "    \n",
    "    X = df_train[target_columns_x].values[train_index]\n",
    "    y = df_train[\"label\"].values[train_index]\n",
    "    val_X = df_train[target_columns_x].values[test_index]\n",
    "    val_y = df_train[\"label\"].values[test_index]\n",
    "    \n",
    "    dataset = Dataset(X, y)\n",
    "    val_dataset = Dataset(val_X, val_y)\n",
    "    \n",
    "    train_loader = torch.utils.data.DataLoader(dataset, batch_size=batch_size, shuffle=True)\n",
    "    val_loader = torch.utils.data.DataLoader(val_dataset, batch_size=batch_size, shuffle=False)\n",
    "    \n",
    "    model = HACModel(in_channels, num_class, hop, mode).to('cuda')\n",
    "    loss_fn = nn.CrossEntropyLoss()\n",
    "    optimizer = torch.optim.Adam(model.parameters(), lr=0.001)\n",
    "    \n",
    "    losses, accs, val_losses, val_accs = train(model, train_loader, val_loader, optimizer, \n",
    "                                               loss_fn, device, num_epochs, model_path)\n",
    "    k_fold_losses.append(losses)\n",
    "    k_fold_accs.append(accs)\n",
    "    \n",
    "    k_fold_val_losses.append(val_losses)\n",
    "    k_fold_val_accs.append(val_accs)\n",
    "    \n",
    "    break"
   ]
  },
  {
   "cell_type": "code",
   "execution_count": 17,
   "id": "a9ee85ae-5d8f-484b-b98b-74c592592963",
   "metadata": {},
   "outputs": [
    {
     "data": {
      "image/png": "[encoded data removed]",
      "text/plain": [
       "<Figure size 432x288 with 1 Axes>"
      ]
     },
     "metadata": {
      "needs_background": "light"
     },
     "output_type": "display_data"
    }
   ],
   "source": [
    "for idx in range(len(k_fold_val_accs)):\n",
    "    plt.figure()\n",
    "    plt.plot(k_fold_accs[idx], label=\"train\")\n",
    "    plt.plot(k_fold_val_accs[idx], label=\"test\")\n",
    "    plt.legend()\n",
    "    plt.show()"
   ]
  },
  {
   "cell_type": "code",
   "execution_count": 18,
   "id": "eba435c9-4178-4627-ace9-2cc5ec547f91",
   "metadata": {},
   "outputs": [
    {
     "data": {
      "text/plain": [
       "\"\\nlosses_k_hops = []\\naccs_k_hops = []\\n\\nfor hop in range(1, 6):\\n    \\n    model = HACModel(in_channels, num_class, hop).to('cuda')\\n    loss_fn = nn.CrossEntropyLoss()\\n    optimizer = torch.optim.Adam(model.parameters(), lr=0.001)\\n    \\n    losses, accs, _, _ = train(model, train_loader, None, optimizer, loss_fn, device, num_epochs)\\n    \\n    losses_k_hops.append(losses)\\n    accs_k_hops.append(accs)\\n\""
      ]
     },
     "execution_count": 18,
     "metadata": {},
     "output_type": "execute_result"
    }
   ],
   "source": [
    "'''\n",
    "losses_k_hops = []\n",
    "accs_k_hops = []\n",
    "\n",
    "for hop in range(1, 6):\n",
    "    \n",
    "    model = HACModel(in_channels, num_class, hop).to('cuda')\n",
    "    loss_fn = nn.CrossEntropyLoss()\n",
    "    optimizer = torch.optim.Adam(model.parameters(), lr=0.001)\n",
    "    \n",
    "    losses, accs, _, _ = train(model, train_loader, None, optimizer, loss_fn, device, num_epochs)\n",
    "    \n",
    "    losses_k_hops.append(losses)\n",
    "    accs_k_hops.append(accs)\n",
    "'''"
   ]
  },
  {
   "cell_type": "code",
   "execution_count": 19,
   "id": "e18ff2b7-d637-4a67-b049-ef10e2e239c9",
   "metadata": {},
   "outputs": [
    {
     "data": {
      "text/plain": [
       "'\\nplt.figure()\\nfor idx, accs in enumerate(accs_k_hops):\\n    plt.plot(accs, label=str(idx + 1))\\n    print(np.array(accs).mean())\\nplt.ylim(0.9, 1.0)\\nplt.legend()\\nplt.show()\\n'"
      ]
     },
     "execution_count": 19,
     "metadata": {},
     "output_type": "execute_result"
    }
   ],
   "source": [
    "'''\n",
    "plt.figure()\n",
    "for idx, accs in enumerate(accs_k_hops):\n",
    "    plt.plot(accs, label=str(idx + 1))\n",
    "    print(np.array(accs).mean())\n",
    "plt.ylim(0.9, 1.0)\n",
    "plt.legend()\n",
    "plt.show()\n",
    "'''"
   ]
  },
  {
   "cell_type": "code",
   "execution_count": 20,
   "id": "daf02484-239c-4e9c-a97a-d17828e19a6e",
   "metadata": {},
   "outputs": [
    {
     "data": {
      "text/plain": [
       "'hac\\\\trained_model\\\\gcn\\\\gestures'"
      ]
     },
     "execution_count": 20,
     "metadata": {},
     "output_type": "execute_result"
    }
   ],
   "source": [
    "model_path"
   ]
  },
  {
   "cell_type": "code",
   "execution_count": 21,
   "id": "7bfe4c3f-5569-48a2-9d72-2f6c4e559a8d",
   "metadata": {},
   "outputs": [
    {
     "data": {
      "text/plain": [
       "HACModel(\n",
       "  (data_bn): BatchNorm2d(3, eps=1e-05, momentum=0.1, affine=True, track_running_stats=True)\n",
       "  (gcns): ModuleList(\n",
       "    (0): GCN(\n",
       "      (conv): Conv2d(3, 32, kernel_size=(1, 1), stride=(1, 1))\n",
       "      (residual): Sequential(\n",
       "        (0): Conv2d(3, 16, kernel_size=(1, 1), stride=(1, 1))\n",
       "        (1): BatchNorm2d(16, eps=1e-05, momentum=0.1, affine=True, track_running_stats=True)\n",
       "      )\n",
       "    )\n",
       "    (1): GCN(\n",
       "      (conv): Conv2d(16, 64, kernel_size=(1, 1), stride=(1, 1))\n",
       "      (residual): Sequential(\n",
       "        (0): Conv2d(16, 32, kernel_size=(1, 1), stride=(1, 1))\n",
       "        (1): BatchNorm2d(32, eps=1e-05, momentum=0.1, affine=True, track_running_stats=True)\n",
       "      )\n",
       "    )\n",
       "    (2): GCN(\n",
       "      (conv): Conv2d(32, 128, kernel_size=(1, 1), stride=(1, 1))\n",
       "      (residual): Sequential(\n",
       "        (0): Conv2d(32, 64, kernel_size=(1, 1), stride=(1, 1))\n",
       "        (1): BatchNorm2d(64, eps=1e-05, momentum=0.1, affine=True, track_running_stats=True)\n",
       "      )\n",
       "    )\n",
       "  )\n",
       "  (edge_importances): ParameterList(\n",
       "      (0): Parameter containing: [torch.cuda.FloatTensor of size 2x42x42 (GPU 0)]\n",
       "      (1): Parameter containing: [torch.cuda.FloatTensor of size 2x42x42 (GPU 0)]\n",
       "      (2): Parameter containing: [torch.cuda.FloatTensor of size 2x42x42 (GPU 0)]\n",
       "  )\n",
       "  (fcn): Conv2d(64, 9, kernel_size=(1, 1), stride=(1, 1))\n",
       "  (drop_layer): Dropout(p=0.5, inplace=False)\n",
       "  (relu): ReLU(inplace=True)\n",
       ")"
      ]
     },
     "execution_count": 21,
     "metadata": {},
     "output_type": "execute_result"
    }
   ],
   "source": [
    "model"
   ]
  },
  {
   "cell_type": "code",
   "execution_count": 22,
   "id": "6279d7b4-57a9-43bf-add2-8981eef0aa08",
   "metadata": {},
   "outputs": [],
   "source": [
    "trained_model = HACModel(in_channels, num_class, k_hop=2, mode=mode).to(device)"
   ]
  },
  {
   "cell_type": "code",
   "execution_count": 23,
   "id": "424ee691-c84c-4f85-b358-a51c362f6cf9",
   "metadata": {},
   "outputs": [],
   "source": [
    "model_name = \"best_model.pth\""
   ]
  },
  {
   "cell_type": "code",
   "execution_count": 24,
   "id": "8aaca754-d534-48c9-8fe3-741edbb7af22",
   "metadata": {},
   "outputs": [
    {
     "data": {
      "text/plain": [
       "<All keys matched successfully>"
      ]
     },
     "execution_count": 24,
     "metadata": {},
     "output_type": "execute_result"
    }
   ],
   "source": [
    "trained_model.load_state_dict(torch.load(os.path.join(model_path, model_name)))"
   ]
  }
 ],
 "metadata": {
  "kernelspec": {
   "display_name": "Python 3",
   "language": "python",
   "name": "python3"
  },
  "language_info": {
   "codemirror_mode": {
    "name": "ipython",
    "version": 3
   },
   "file_extension": ".py",
   "mimetype": "text/x-python",
   "name": "python",
   "nbconvert_exporter": "python",
   "pygments_lexer": "ipython3",
   "version": "3.7.7"
  }
 },
 "nbformat": 4,
 "nbformat_minor": 5
}
